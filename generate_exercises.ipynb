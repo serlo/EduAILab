{
 "cells": [
  {
   "cell_type": "markdown",
   "id": "8f0f9104-d1d6-467d-950a-544158e58035",
   "metadata": {},
   "source": [
    "# Generate exercises using a large language model (LLM)\n",
    "This is an implementation of the proposal https://miro.com/app/board/uXjVMuVH2kA=/ made by the author unit."
   ]
  },
  {
   "cell_type": "markdown",
   "id": "c9470ca2-37ea-4769-b5e6-d569fd5865f9",
   "metadata": {},
   "source": [
    "## LLM setup\n",
    "We use OpenAI for now because we have not yet investigated other options. Might want to do that, though."
   ]
  },
  {
   "cell_type": "code",
   "execution_count": 1,
   "id": "58b0ce3c-ff4b-4c88-8220-0af495290784",
   "metadata": {},
   "outputs": [
    {
     "name": "stdout",
     "output_type": "stream",
     "text": [
      "Defaulting to user installation because normal site-packages is not writeable\n",
      "Requirement already satisfied: python-dotenv in /usr/lib/python3.11/site-packages (0.21.1)\n",
      "Defaulting to user installation because normal site-packages is not writeable\n",
      "Requirement already satisfied: openai in /home/andreas/.local/lib/python3.11/site-packages (0.27.8)\n",
      "Requirement already satisfied: requests>=2.20 in /usr/lib/python3.11/site-packages (from openai) (2.28.2)\n",
      "Requirement already satisfied: tqdm in /home/andreas/.local/lib/python3.11/site-packages (from openai) (4.65.0)\n",
      "Requirement already satisfied: aiohttp in /home/andreas/.local/lib/python3.11/site-packages (from openai) (3.8.5)\n",
      "Requirement already satisfied: charset-normalizer<4,>=2 in /usr/lib/python3.11/site-packages (from requests>=2.20->openai) (3.1.0)\n",
      "Requirement already satisfied: idna<4,>=2.5 in /usr/lib/python3.11/site-packages (from requests>=2.20->openai) (3.4)\n",
      "Requirement already satisfied: urllib3<1.27,>=1.21.1 in /usr/lib/python3.11/site-packages (from requests>=2.20->openai) (1.26.16)\n",
      "Requirement already satisfied: attrs>=17.3.0 in /usr/lib/python3.11/site-packages (from aiohttp->openai) (22.2.0)\n",
      "Requirement already satisfied: multidict<7.0,>=4.5 in /home/andreas/.local/lib/python3.11/site-packages (from aiohttp->openai) (6.0.4)\n",
      "Requirement already satisfied: async-timeout<5.0,>=4.0.0a3 in /home/andreas/.local/lib/python3.11/site-packages (from aiohttp->openai) (4.0.3)\n",
      "Requirement already satisfied: yarl<2.0,>=1.0 in /home/andreas/.local/lib/python3.11/site-packages (from aiohttp->openai) (1.9.2)\n",
      "Requirement already satisfied: frozenlist>=1.1.1 in /home/andreas/.local/lib/python3.11/site-packages (from aiohttp->openai) (1.4.0)\n",
      "Requirement already satisfied: aiosignal>=1.1.2 in /home/andreas/.local/lib/python3.11/site-packages (from aiohttp->openai) (1.3.1)\n"
     ]
    }
   ],
   "source": [
    "!pip install python-dotenv\n",
    "!pip install openai"
   ]
  },
  {
   "cell_type": "code",
   "execution_count": 2,
   "id": "6d4ba935-9902-44c5-b9c2-45a767a1b5db",
   "metadata": {},
   "outputs": [],
   "source": [
    "import os\n",
    "import openai\n",
    "\n",
    "from dotenv import load_dotenv, find_dotenv\n",
    "_ = load_dotenv(find_dotenv()) # read local .env file\n",
    "openai.api_key = os.environ['OPENAI_API_KEY']"
   ]
  },
  {
   "cell_type": "markdown",
   "id": "4e8aea69-2a5d-4779-b0cc-04f8838790c4",
   "metadata": {},
   "source": [
    "## Prompt setup\n",
    "First we define some enums as intended by the prototype:"
   ]
  },
  {
   "cell_type": "code",
   "execution_count": 3,
   "id": "b5b3229c-9ad9-41f4-93a9-36ae027683a4",
   "metadata": {},
   "outputs": [],
   "source": [
    "from enum import Enum\n",
    "\n",
    "class Difficulty(Enum):\n",
    "    LOW: str = \"leicht\"\n",
    "    MEDIUM: str = \"moderat\"\n",
    "    HIGH: str = \"knifflig\"\n",
    "\n",
    "class ExerciseCategory(Enum):\n",
    "    SINGLE: str = \"eine Einzelaufgabe\"\n",
    "    QUIZ: str = \"ein Quiz\"\n",
    "    TEST: str = \"einen Test\"\n",
    "\n",
    "class ExerciseType(Enum):\n",
    "    MULTIPLE_CHOICE: str = \"Multiple Choice\"\n",
    "    SINGLE_CHOICE: str = \"Single Choice\"\n",
    "    GAP_TEXT: str = \"Lückentext\"\n",
    "    TRUE_FALSE: str = \"Wahr Falsch\"\n",
    "    MAPPING: str = \"Zuordnung\"\n",
    "    FREE_TEXT: str = \"Freitext\"\n",
    "    FACTUAL_TASK: str = \"Sachaufgabe\"\n",
    "    SINGLE_WORD_SOLUTION: str = \"Lösung mit 1 Wort\"\n",
    "    SINGLE_NUMBER_SOLUTION: str = \"Lösung mit 1 Zahl\""
   ]
  },
  {
   "cell_type": "markdown",
   "id": "cd6d87c0-4508-49aa-b183-f53b577e574b",
   "metadata": {},
   "source": [
    "Now we set the actual variables that the frontend would gather, feel free to change the values and experiment:"
   ]
  },
  {
   "cell_type": "code",
   "execution_count": 4,
   "id": "830ee1a2-0497-4713-87cc-abce7f70659f",
   "metadata": {},
   "outputs": [],
   "source": [
    "subject: str = \"Mathe\"\n",
    "grade: int = 8\n",
    "level: Difficulty= Difficulty.MEDIUM\n",
    "topic: str = \"Bruchrechnung\"\n",
    "goal: str = \"Die Schüler*innen können Brüche erweitern und kürzen.\"\n",
    "category: ExerciseCategory = ExerciseCategory.QUIZ\n",
    "exercise_types: list[ExerciseType] = [ExerciseType.MULTIPLE_CHOICE, ExerciseType.GAP_TEXT, ExerciseType.MAPPING] \n",
    "number_exercises: int = 10\n",
    "info: str = \"Das Quiz wird im Rahmen des Unterrichts an einer Mittelschule eingesetzt. Die Schülerinnen kennen die Grundlagen der Bruchrechnung.\""
   ]
  },
  {
   "cell_type": "markdown",
   "id": "9136b12e-8f46-4d32-980b-2b2a9d4af5b7",
   "metadata": {},
   "source": [
    "We use the framework langchain because it is convenient, though tasks of this level of complexity could also be done without."
   ]
  },
  {
   "cell_type": "code",
   "execution_count": 5,
   "id": "569e8bfc-163f-422a-abd1-6fdc47898559",
   "metadata": {},
   "outputs": [
    {
     "name": "stdout",
     "output_type": "stream",
     "text": [
      "Defaulting to user installation because normal site-packages is not writeable\n",
      "Requirement already satisfied: langchain in /home/andreas/.local/lib/python3.11/site-packages (0.0.263)\n",
      "Requirement already satisfied: PyYAML>=5.3 in /usr/lib64/python3.11/site-packages (from langchain) (6.0)\n",
      "Requirement already satisfied: SQLAlchemy<3,>=1.4 in /home/andreas/.local/lib/python3.11/site-packages (from langchain) (2.0.19)\n",
      "Requirement already satisfied: aiohttp<4.0.0,>=3.8.3 in /home/andreas/.local/lib/python3.11/site-packages (from langchain) (3.8.5)\n",
      "Requirement already satisfied: dataclasses-json<0.6.0,>=0.5.7 in /home/andreas/.local/lib/python3.11/site-packages (from langchain) (0.5.14)\n",
      "Requirement already satisfied: langsmith<0.1.0,>=0.0.11 in /home/andreas/.local/lib/python3.11/site-packages (from langchain) (0.0.22)\n",
      "Requirement already satisfied: numexpr<3.0.0,>=2.8.4 in /home/andreas/.local/lib/python3.11/site-packages (from langchain) (2.8.5)\n",
      "Requirement already satisfied: numpy<2,>=1 in /home/andreas/.local/lib/python3.11/site-packages (from langchain) (1.25.2)\n",
      "Requirement already satisfied: openapi-schema-pydantic<2.0,>=1.2 in /home/andreas/.local/lib/python3.11/site-packages (from langchain) (1.2.4)\n",
      "Requirement already satisfied: pydantic<2,>=1 in /home/andreas/.local/lib/python3.11/site-packages (from langchain) (1.10.12)\n",
      "Requirement already satisfied: requests<3,>=2 in /usr/lib/python3.11/site-packages (from langchain) (2.28.2)\n",
      "Requirement already satisfied: tenacity<9.0.0,>=8.1.0 in /home/andreas/.local/lib/python3.11/site-packages (from langchain) (8.2.2)\n",
      "Requirement already satisfied: attrs>=17.3.0 in /usr/lib/python3.11/site-packages (from aiohttp<4.0.0,>=3.8.3->langchain) (22.2.0)\n",
      "Requirement already satisfied: charset-normalizer<4.0,>=2.0 in /usr/lib/python3.11/site-packages (from aiohttp<4.0.0,>=3.8.3->langchain) (3.1.0)\n",
      "Requirement already satisfied: multidict<7.0,>=4.5 in /home/andreas/.local/lib/python3.11/site-packages (from aiohttp<4.0.0,>=3.8.3->langchain) (6.0.4)\n",
      "Requirement already satisfied: async-timeout<5.0,>=4.0.0a3 in /home/andreas/.local/lib/python3.11/site-packages (from aiohttp<4.0.0,>=3.8.3->langchain) (4.0.3)\n",
      "Requirement already satisfied: yarl<2.0,>=1.0 in /home/andreas/.local/lib/python3.11/site-packages (from aiohttp<4.0.0,>=3.8.3->langchain) (1.9.2)\n",
      "Requirement already satisfied: frozenlist>=1.1.1 in /home/andreas/.local/lib/python3.11/site-packages (from aiohttp<4.0.0,>=3.8.3->langchain) (1.4.0)\n",
      "Requirement already satisfied: aiosignal>=1.1.2 in /home/andreas/.local/lib/python3.11/site-packages (from aiohttp<4.0.0,>=3.8.3->langchain) (1.3.1)\n",
      "Requirement already satisfied: marshmallow<4.0.0,>=3.18.0 in /home/andreas/.local/lib/python3.11/site-packages (from dataclasses-json<0.6.0,>=0.5.7->langchain) (3.20.1)\n",
      "Requirement already satisfied: typing-inspect<1,>=0.4.0 in /home/andreas/.local/lib/python3.11/site-packages (from dataclasses-json<0.6.0,>=0.5.7->langchain) (0.9.0)\n",
      "Requirement already satisfied: typing-extensions>=4.2.0 in /home/andreas/.local/lib/python3.11/site-packages (from pydantic<2,>=1->langchain) (4.7.1)\n",
      "Requirement already satisfied: idna<4,>=2.5 in /usr/lib/python3.11/site-packages (from requests<3,>=2->langchain) (3.4)\n",
      "Requirement already satisfied: urllib3<1.27,>=1.21.1 in /usr/lib/python3.11/site-packages (from requests<3,>=2->langchain) (1.26.16)\n",
      "Requirement already satisfied: greenlet!=0.4.17 in /home/andreas/.local/lib/python3.11/site-packages (from SQLAlchemy<3,>=1.4->langchain) (2.0.2)\n",
      "Requirement already satisfied: packaging>=17.0 in /usr/lib/python3.11/site-packages (from marshmallow<4.0.0,>=3.18.0->dataclasses-json<0.6.0,>=0.5.7->langchain) (23.0)\n",
      "Requirement already satisfied: mypy-extensions>=0.3.0 in /home/andreas/.local/lib/python3.11/site-packages (from typing-inspect<1,>=0.4.0->dataclasses-json<0.6.0,>=0.5.7->langchain) (1.0.0)\n"
     ]
    }
   ],
   "source": [
    "!pip install langchain"
   ]
  },
  {
   "cell_type": "code",
   "execution_count": 6,
   "id": "ac24c82c-cd20-47ba-9551-1a35d6626bd1",
   "metadata": {},
   "outputs": [
    {
     "name": "stdout",
     "output_type": "stream",
     "text": [
      "\n",
      "Erstelle 10 Aufgaben für ein Quiz in Mathe in der Jahrgangsstufe 8. Der Schwierigkeitsgrad soll moderat sein. Das Ziel der Aufgaben ist: Die Schüler*innen können Brüche erweitern und kürzen. Folgende Aufgabentypen sollen hierbei enthalten sein: Multiple Choice, Lückentext, Zuordnung. Das Quiz wird im Rahmen des Unterrichts an einer Mittelschule eingesetzt. Die Schülerinnen kennen die Grundlagen der Bruchrechnung.\n",
      "\n"
     ]
    }
   ],
   "source": [
    "from langchain.chat_models import ChatOpenAI\n",
    "from langchain.prompts import ChatPromptTemplate\n",
    "chat = ChatOpenAI(temperature=0.0)\n",
    "template_string = \"\"\"\n",
    "Erstelle {number_exercises} Aufgaben \\\n",
    "für {category} \\\n",
    "in {subject} \\\n",
    "in der Jahrgangsstufe {grade}. \\\n",
    "Der Schwierigkeitsgrad soll {level} sein. \\\n",
    "Das Ziel der Aufgaben ist: {goal} \\\n",
    "Folgende Aufgabentypen sollen hierbei enthalten sein: {exercise_types}. \\\n",
    "{info}\n",
    "\"\"\"\n",
    "prompt_template = ChatPromptTemplate.from_template(template_string)\n",
    "prompt_to_generate_exercises = prompt_template.format_messages(subject=subject, \n",
    "                                                               grade=grade, \n",
    "                                                               level=level.value, \n",
    "                                                               topic=topic, \n",
    "                                                               goal=goal, \n",
    "                                                               category=category.value, \n",
    "                                                               exercise_types=', '.join([item.value for item in exercise_types]), \n",
    "                                                               number_exercises=number_exercises, \n",
    "                                                               info=info\n",
    "                                                              )\n",
    "print(prompt_to_generate_exercises[0].content)"
   ]
  },
  {
   "cell_type": "markdown",
   "id": "8a4e453f-53f9-47b5-a34d-e3e1ce46d9b3",
   "metadata": {},
   "source": [
    "## Generate exercises\n",
    "Now we see in what this prompt results:"
   ]
  },
  {
   "cell_type": "code",
   "execution_count": 7,
   "id": "cc9770ed-867c-4877-94bf-59d6ae062a02",
   "metadata": {},
   "outputs": [
    {
     "name": "stdout",
     "output_type": "stream",
     "text": [
      "1. Multiple Choice: Welcher Bruch ist gleichwertig zu 3/4?\n",
      "a) 2/3\n",
      "b) 4/5\n",
      "c) 6/8\n",
      "d) 5/6\n",
      "\n",
      "2. Lückentext: Kürze den Bruch 12/18 auf den kleinstmöglichen Bruch. Das Ergebnis lautet _______.\n",
      "\n",
      "3. Zuordnung: Ordne die Brüche ihren gekürzten Formen zu:\n",
      "a) 8/12\n",
      "b) 5/10\n",
      "c) 9/15\n",
      "\n",
      "4. Multiple Choice: Welcher Bruch ist größer als 1/2?\n",
      "a) 2/3\n",
      "b) 3/4\n",
      "c) 1/3\n",
      "d) 1/4\n",
      "\n",
      "5. Lückentext: Erweitere den Bruch 2/5 auf den Bruch mit dem Nenner 10. Das Ergebnis lautet _______.\n",
      "\n",
      "6. Zuordnung: Ordne die Brüche ihren erweiterten Formen zu:\n",
      "a) 3/7\n",
      "b) 4/9\n",
      "c) 2/5\n",
      "\n",
      "7. Multiple Choice: Welcher Bruch ist gleichwertig zu 6/8?\n",
      "a) 3/4\n",
      "b) 2/3\n",
      "c) 4/5\n",
      "d) 5/6\n",
      "\n",
      "8. Lückentext: Kürze den Bruch 16/24 auf den kleinstmöglichen Bruch. Das Ergebnis lautet _______.\n",
      "\n",
      "9. Zuordnung: Ordne die Brüche ihren gekürzten Formen zu:\n",
      "a) 10/15\n",
      "b) 6/9\n",
      "c) 12/18\n",
      "\n",
      "10. Multiple Choice: Welcher Bruch ist kleiner als 3/4?\n",
      "a) 2/3\n",
      "b) 4/5\n",
      "c) 5/6\n",
      "d) 1/2\n"
     ]
    }
   ],
   "source": [
    "generated_exercises = chat(prompt_to_generate_exercises)\n",
    "print(generated_exercises.content)"
   ]
  }
 ],
 "metadata": {
  "kernelspec": {
   "display_name": "Python 3 (ipykernel)",
   "language": "python",
   "name": "python3"
  },
  "language_info": {
   "codemirror_mode": {
    "name": "ipython",
    "version": 3
   },
   "file_extension": ".py",
   "mimetype": "text/x-python",
   "name": "python",
   "nbconvert_exporter": "python",
   "pygments_lexer": "ipython3",
   "version": "3.11.4"
  }
 },
 "nbformat": 4,
 "nbformat_minor": 5
}
