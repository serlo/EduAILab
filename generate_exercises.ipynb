{
 "cells": [
  {
   "cell_type": "markdown",
   "id": "8f0f9104-d1d6-467d-950a-544158e58035",
   "metadata": {},
   "source": [
    "# Generate exercises using a large language model (LLM)\n",
    "This is an implementation of the proposal https://miro.com/app/board/uXjVMuVH2kA=/ made by the author unit."
   ]
  },
  {
   "cell_type": "markdown",
   "id": "c9470ca2-37ea-4769-b5e6-d569fd5865f9",
   "metadata": {},
   "source": [
    "## LLM setup\n",
    "We use OpenAI for now because we have not yet investigated other options. Might want to do that, though."
   ]
  },
  {
   "cell_type": "code",
   "execution_count": 1,
   "id": "58b0ce3c-ff4b-4c88-8220-0af495290784",
   "metadata": {},
   "outputs": [
    {
     "name": "stdout",
     "output_type": "stream",
     "text": [
      "Defaulting to user installation because normal site-packages is not writeable\n",
      "Requirement already satisfied: python-dotenv in /usr/lib/python3.11/site-packages (0.21.1)\n",
      "Defaulting to user installation because normal site-packages is not writeable\n",
      "Requirement already satisfied: openai in /home/andreas/.local/lib/python3.11/site-packages (0.27.8)\n",
      "Requirement already satisfied: requests>=2.20 in /usr/lib/python3.11/site-packages (from openai) (2.28.2)\n",
      "Requirement already satisfied: tqdm in /home/andreas/.local/lib/python3.11/site-packages (from openai) (4.65.0)\n",
      "Requirement already satisfied: aiohttp in /home/andreas/.local/lib/python3.11/site-packages (from openai) (3.8.5)\n",
      "Requirement already satisfied: charset-normalizer<4,>=2 in /usr/lib/python3.11/site-packages (from requests>=2.20->openai) (3.1.0)\n",
      "Requirement already satisfied: idna<4,>=2.5 in /usr/lib/python3.11/site-packages (from requests>=2.20->openai) (3.4)\n",
      "Requirement already satisfied: urllib3<1.27,>=1.21.1 in /usr/lib/python3.11/site-packages (from requests>=2.20->openai) (1.26.16)\n",
      "Requirement already satisfied: attrs>=17.3.0 in /usr/lib/python3.11/site-packages (from aiohttp->openai) (22.2.0)\n",
      "Requirement already satisfied: multidict<7.0,>=4.5 in /home/andreas/.local/lib/python3.11/site-packages (from aiohttp->openai) (6.0.4)\n",
      "Requirement already satisfied: async-timeout<5.0,>=4.0.0a3 in /home/andreas/.local/lib/python3.11/site-packages (from aiohttp->openai) (4.0.3)\n",
      "Requirement already satisfied: yarl<2.0,>=1.0 in /home/andreas/.local/lib/python3.11/site-packages (from aiohttp->openai) (1.9.2)\n",
      "Requirement already satisfied: frozenlist>=1.1.1 in /home/andreas/.local/lib/python3.11/site-packages (from aiohttp->openai) (1.4.0)\n",
      "Requirement already satisfied: aiosignal>=1.1.2 in /home/andreas/.local/lib/python3.11/site-packages (from aiohttp->openai) (1.3.1)\n"
     ]
    }
   ],
   "source": [
    "!pip install python-dotenv\n",
    "!pip install openai"
   ]
  },
  {
   "cell_type": "code",
   "execution_count": 1,
   "id": "6d4ba935-9902-44c5-b9c2-45a767a1b5db",
   "metadata": {},
   "outputs": [
    {
     "name": "stderr",
     "output_type": "stream",
     "text": [
      "/Users/annas/Library/Python/3.9/lib/python/site-packages/urllib3/__init__.py:34: NotOpenSSLWarning: urllib3 v2.0 only supports OpenSSL 1.1.1+, currently the 'ssl' module is compiled with 'LibreSSL 2.8.3'. See: https://github.com/urllib3/urllib3/issues/3020\n",
      "  warnings.warn(\n"
     ]
    }
   ],
   "source": [
    "import os\n",
    "import openai\n",
    "\n",
    "from dotenv import load_dotenv, find_dotenv\n",
    "#load_dotenv(find_dotenv())\n",
    "load_dotenv(\"OPENAI.env\") # read local .env file\n",
    "openai.api_key = os.environ.get('OPENAI_API_KEY')"
   ]
  },
  {
   "cell_type": "markdown",
   "id": "4e8aea69-2a5d-4779-b0cc-04f8838790c4",
   "metadata": {},
   "source": [
    "## Prompt setup\n",
    "First we define some enums as intended by the prototype:"
   ]
  },
  {
   "cell_type": "code",
   "execution_count": 6,
   "id": "b5b3229c-9ad9-41f4-93a9-36ae027683a4",
   "metadata": {},
   "outputs": [],
   "source": [
    "from enum import Enum\n",
    "\n",
    "class Difficulty(Enum):\n",
    "    LOW: str = \"leicht\"\n",
    "    MEDIUM: str = \"moderat\"\n",
    "    HIGH: str = \"knifflig\"\n",
    "\n",
    "class ExerciseCategory(Enum):\n",
    "    SINGLE: str = \"eine Einzelaufgabe\"\n",
    "    QUIZ: str = \"ein Quiz\"\n",
    "    TEST: str = \"einen Test\"\n",
    "\n",
    "class ExerciseType(Enum):\n",
    "    MULTIPLE_CHOICE: str = \"Multiple Choice\"\n",
    "    SINGLE_CHOICE: str = \"Single Choice\"\n",
    "    SHORT_ANSWER: str = \"Short Answer\"\n",
    "    TRUE_FALSE: str = \"Wahr Falsch\"\n",
    "    MAPPING: str = \"Zuordnung\"\n",
    "    FREE_TEXT: str = \"Freitext\"\n",
    "    FACTUAL_TASK: str = \"Sachaufgabe\"\n",
    "    SINGLE_WORD_SOLUTION: str = \"Lösung mit 1 Wort\"\n",
    "    SINGLE_NUMBER_SOLUTION: str = \"Lösung mit 1 Zahl\""
   ]
  },
  {
   "cell_type": "markdown",
   "id": "cd6d87c0-4508-49aa-b183-f53b577e574b",
   "metadata": {},
   "source": [
    "Now we set the actual variables that the frontend would gather, feel free to change the values and experiment:"
   ]
  },
  {
   "cell_type": "code",
   "execution_count": 7,
   "id": "830ee1a2-0497-4713-87cc-abce7f70659f",
   "metadata": {},
   "outputs": [],
   "source": [
    "subject: str = \"Mathe\"\n",
    "grade: int = 8\n",
    "level: Difficulty= Difficulty.MEDIUM\n",
    "topic: str = \"Bruchrechnung\"\n",
    "goal: str = \"Die Schüler*innen können Brüche erweitern und kürzen.\"\n",
    "category: ExerciseCategory = ExerciseCategory.QUIZ\n",
    "exercise_types: list[ExerciseType] = [ExerciseType.MULTIPLE_CHOICE, ExerciseType.SINGLE_CHOICE, ExerciseType.SHORT_ANSWER] \n",
    "number_exercises: int = 10\n",
    "info: str = \"\"\"Erstelle erst die Aufgabenstellung. Erstelle dann für die Multiple Choice Aufgaben mindestens zwei richtige und mehrere falsche Antworten, für die Single Choice Aufgabe genau eine richtige Antwort und mehrere falsche Antworten. Bei Short Answer Aufgaben gibt der Schüler die Antwort selbst an. \n",
    "\n",
    "Das JSON-Format für jede Aufgabe sieht so aus: { \"type\": <\"multiple_choice\" or \"single_choice\" or \"short_answer\" depending on the exercise>, \"question\": <text string>, \"options\": <list of possible answers>, \"correct_options\": <list of indices indicating which answer from \"options\" is correct> } \n",
    "Gib nur eine Liste von JSON-Objekten mit diesem Format zurück: [{}].\n",
    "Formatiere alle Mathe-Symbole als Latex. \n",
    "\n",
    "Beachte: In der Ausgabe soll kein Plain Text, sondern nur JSON stehen!\"\"\""
   ]
  },
  {
   "cell_type": "markdown",
   "id": "9136b12e-8f46-4d32-980b-2b2a9d4af5b7",
   "metadata": {},
   "source": [
    "We use the framework langchain because it is convenient, though tasks of this level of complexity could also be done without."
   ]
  },
  {
   "cell_type": "code",
   "execution_count": 7,
   "id": "569e8bfc-163f-422a-abd1-6fdc47898559",
   "metadata": {},
   "outputs": [
    {
     "name": "stderr",
     "output_type": "stream",
     "text": [
      "452.04s - pydevd: Sending message related to process being replaced timed-out after 5 seconds\n"
     ]
    },
    {
     "name": "stdout",
     "output_type": "stream",
     "text": [
      "Defaulting to user installation because normal site-packages is not writeable\n",
      "Collecting langchain\n",
      "  Obtaining dependency information for langchain from https://files.pythonhosted.org/packages/5c/c2/66a16f85f5fc275ba3436a7862d7d89f736682687e2c93359e8ab6541dae/langchain-0.0.283-py3-none-any.whl.metadata\n",
      "  Downloading langchain-0.0.283-py3-none-any.whl.metadata (14 kB)\n",
      "Requirement already satisfied: PyYAML>=5.3 in /Users/annas/Library/Python/3.9/lib/python/site-packages (from langchain) (6.0)\n",
      "Collecting SQLAlchemy<3,>=1.4 (from langchain)\n",
      "  Obtaining dependency information for SQLAlchemy<3,>=1.4 from https://files.pythonhosted.org/packages/4b/dd/8fe0fc21fc4338e7479f1b254a67b5515bd31b85c28925045bc8b0d5a1c3/SQLAlchemy-2.0.20-cp39-cp39-macosx_10_9_x86_64.whl.metadata\n",
      "  Downloading SQLAlchemy-2.0.20-cp39-cp39-macosx_10_9_x86_64.whl.metadata (9.4 kB)\n",
      "Requirement already satisfied: aiohttp<4.0.0,>=3.8.3 in /Users/annas/Library/Python/3.9/lib/python/site-packages (from langchain) (3.8.4)\n",
      "Requirement already satisfied: async-timeout<5.0.0,>=4.0.0 in /Users/annas/Library/Python/3.9/lib/python/site-packages (from langchain) (4.0.2)\n",
      "Collecting dataclasses-json<0.6.0,>=0.5.7 (from langchain)\n",
      "  Obtaining dependency information for dataclasses-json<0.6.0,>=0.5.7 from https://files.pythonhosted.org/packages/97/5f/e7cc90f36152810cab08b6c9c1125e8bcb9d76f8b3018d101b5f877b386c/dataclasses_json-0.5.14-py3-none-any.whl.metadata\n",
      "  Downloading dataclasses_json-0.5.14-py3-none-any.whl.metadata (22 kB)\n",
      "Collecting langsmith<0.1.0,>=0.0.21 (from langchain)\n",
      "  Obtaining dependency information for langsmith<0.1.0,>=0.0.21 from https://files.pythonhosted.org/packages/95/3f/2fdeb0af80d210bce2b0bf2da565f7fb9206036ee0adb358759bb994e28d/langsmith-0.0.33-py3-none-any.whl.metadata\n",
      "  Downloading langsmith-0.0.33-py3-none-any.whl.metadata (10 kB)\n",
      "Collecting numexpr<3.0.0,>=2.8.4 (from langchain)\n",
      "  Obtaining dependency information for numexpr<3.0.0,>=2.8.4 from https://files.pythonhosted.org/packages/64/21/b94d5cecf4395c12982f055671b00d4070b6465d1af69c8066d5f2f43984/numexpr-2.8.5-cp39-cp39-macosx_10_9_x86_64.whl.metadata\n",
      "  Downloading numexpr-2.8.5-cp39-cp39-macosx_10_9_x86_64.whl.metadata (8.0 kB)\n",
      "Collecting numpy<2,>=1 (from langchain)\n",
      "  Obtaining dependency information for numpy<2,>=1 from https://files.pythonhosted.org/packages/8b/d9/22c304cd123e0a1b7d89213e50ed6ec4b22f07f1117d64d28f81c08be428/numpy-1.25.2-cp39-cp39-macosx_10_9_x86_64.whl.metadata\n",
      "  Downloading numpy-1.25.2-cp39-cp39-macosx_10_9_x86_64.whl.metadata (5.6 kB)\n",
      "Collecting pydantic<3,>=1 (from langchain)\n",
      "  Obtaining dependency information for pydantic<3,>=1 from https://files.pythonhosted.org/packages/82/06/fafdc75e48b248eff364b4249af4bcc6952225e8f20e8205820afc66e88e/pydantic-2.3.0-py3-none-any.whl.metadata\n",
      "  Downloading pydantic-2.3.0-py3-none-any.whl.metadata (148 kB)\n",
      "\u001b[2K     \u001b[90m━━━━━━━━━━━━━━━━━━━━━━━━━━━━━━━━━━━━━━━\u001b[0m \u001b[32m148.8/148.8 kB\u001b[0m \u001b[31m4.5 MB/s\u001b[0m eta \u001b[36m0:00:00\u001b[0m\n",
      "\u001b[?25hRequirement already satisfied: requests<3,>=2 in /Users/annas/Library/Python/3.9/lib/python/site-packages (from langchain) (2.31.0)\n",
      "Collecting tenacity<9.0.0,>=8.1.0 (from langchain)\n",
      "  Obtaining dependency information for tenacity<9.0.0,>=8.1.0 from https://files.pythonhosted.org/packages/f4/f1/990741d5bb2487d529d20a433210ffa136a367751e454214013b441c4575/tenacity-8.2.3-py3-none-any.whl.metadata\n",
      "  Downloading tenacity-8.2.3-py3-none-any.whl.metadata (1.0 kB)\n",
      "Requirement already satisfied: attrs>=17.3.0 in /Users/annas/Library/Python/3.9/lib/python/site-packages (from aiohttp<4.0.0,>=3.8.3->langchain) (23.1.0)\n",
      "Requirement already satisfied: charset-normalizer<4.0,>=2.0 in /Users/annas/Library/Python/3.9/lib/python/site-packages (from aiohttp<4.0.0,>=3.8.3->langchain) (3.2.0)\n",
      "Requirement already satisfied: multidict<7.0,>=4.5 in /Users/annas/Library/Python/3.9/lib/python/site-packages (from aiohttp<4.0.0,>=3.8.3->langchain) (6.0.4)\n",
      "Requirement already satisfied: yarl<2.0,>=1.0 in /Users/annas/Library/Python/3.9/lib/python/site-packages (from aiohttp<4.0.0,>=3.8.3->langchain) (1.9.2)\n",
      "Requirement already satisfied: frozenlist>=1.1.1 in /Users/annas/Library/Python/3.9/lib/python/site-packages (from aiohttp<4.0.0,>=3.8.3->langchain) (1.3.3)\n",
      "Requirement already satisfied: aiosignal>=1.1.2 in /Users/annas/Library/Python/3.9/lib/python/site-packages (from aiohttp<4.0.0,>=3.8.3->langchain) (1.3.1)\n",
      "Collecting marshmallow<4.0.0,>=3.18.0 (from dataclasses-json<0.6.0,>=0.5.7->langchain)\n",
      "  Obtaining dependency information for marshmallow<4.0.0,>=3.18.0 from https://files.pythonhosted.org/packages/ed/3c/cebfdcad015240014ff08b883d1c0c427f2ba45ae8c6572851b6ef136cad/marshmallow-3.20.1-py3-none-any.whl.metadata\n",
      "  Downloading marshmallow-3.20.1-py3-none-any.whl.metadata (7.8 kB)\n",
      "Collecting typing-inspect<1,>=0.4.0 (from dataclasses-json<0.6.0,>=0.5.7->langchain)\n",
      "  Obtaining dependency information for typing-inspect<1,>=0.4.0 from https://files.pythonhosted.org/packages/65/f3/107a22063bf27bdccf2024833d3445f4eea42b2e598abfbd46f6a63b6cb0/typing_inspect-0.9.0-py3-none-any.whl.metadata\n",
      "  Downloading typing_inspect-0.9.0-py3-none-any.whl.metadata (1.5 kB)\n",
      "Collecting annotated-types>=0.4.0 (from pydantic<3,>=1->langchain)\n",
      "  Obtaining dependency information for annotated-types>=0.4.0 from https://files.pythonhosted.org/packages/d8/f0/a2ee543a96cc624c35a9086f39b1ed2aa403c6d355dfe47a11ee5c64a164/annotated_types-0.5.0-py3-none-any.whl.metadata\n",
      "  Downloading annotated_types-0.5.0-py3-none-any.whl.metadata (11 kB)\n",
      "Collecting pydantic-core==2.6.3 (from pydantic<3,>=1->langchain)\n",
      "  Obtaining dependency information for pydantic-core==2.6.3 from https://files.pythonhosted.org/packages/3a/5a/37e852cee70de74babcbc6b3b5e8076d64a08577da35a2a9de72e44b6e5b/pydantic_core-2.6.3-cp39-cp39-macosx_10_7_x86_64.whl.metadata\n",
      "  Downloading pydantic_core-2.6.3-cp39-cp39-macosx_10_7_x86_64.whl.metadata (6.5 kB)\n",
      "Requirement already satisfied: typing-extensions>=4.6.1 in /Users/annas/Library/Python/3.9/lib/python/site-packages (from pydantic<3,>=1->langchain) (4.7.1)\n",
      "Requirement already satisfied: idna<4,>=2.5 in /Users/annas/Library/Python/3.9/lib/python/site-packages (from requests<3,>=2->langchain) (3.4)\n",
      "Requirement already satisfied: urllib3<3,>=1.21.1 in /Users/annas/Library/Python/3.9/lib/python/site-packages (from requests<3,>=2->langchain) (2.0.3)\n",
      "Requirement already satisfied: certifi>=2017.4.17 in /Users/annas/Library/Python/3.9/lib/python/site-packages (from requests<3,>=2->langchain) (2023.5.7)\n",
      "Collecting greenlet!=0.4.17 (from SQLAlchemy<3,>=1.4->langchain)\n",
      "  Downloading greenlet-2.0.2-cp39-cp39-macosx_11_0_x86_64.whl (241 kB)\n",
      "\u001b[2K     \u001b[90m━━━━━━━━━━━━━━━━━━━━━━━━━━━━━━━━━━━━━━\u001b[0m \u001b[32m241.4/241.4 kB\u001b[0m \u001b[31m11.6 MB/s\u001b[0m eta \u001b[36m0:00:00\u001b[0m\n",
      "\u001b[?25hRequirement already satisfied: packaging>=17.0 in /Users/annas/Library/Python/3.9/lib/python/site-packages (from marshmallow<4.0.0,>=3.18.0->dataclasses-json<0.6.0,>=0.5.7->langchain) (23.1)\n",
      "Collecting mypy-extensions>=0.3.0 (from typing-inspect<1,>=0.4.0->dataclasses-json<0.6.0,>=0.5.7->langchain)\n",
      "  Downloading mypy_extensions-1.0.0-py3-none-any.whl (4.7 kB)\n",
      "Downloading langchain-0.0.283-py3-none-any.whl (1.6 MB)\n",
      "\u001b[2K   \u001b[90m━━━━━━━━━━━━━━━━━━━━━━━━━━━━━━━━━━━━━━━━\u001b[0m \u001b[32m1.6/1.6 MB\u001b[0m \u001b[31m10.6 MB/s\u001b[0m eta \u001b[36m0:00:00\u001b[0ma \u001b[36m0:00:01\u001b[0m\n",
      "\u001b[?25hDownloading dataclasses_json-0.5.14-py3-none-any.whl (26 kB)\n",
      "Downloading langsmith-0.0.33-py3-none-any.whl (36 kB)\n",
      "Downloading numexpr-2.8.5-cp39-cp39-macosx_10_9_x86_64.whl (101 kB)\n",
      "\u001b[2K   \u001b[90m━━━━━━━━━━━━━━━━━━━━━━━━━━━━━━━━━━━━━━━━\u001b[0m \u001b[32m101.8/101.8 kB\u001b[0m \u001b[31m9.7 MB/s\u001b[0m eta \u001b[36m0:00:00\u001b[0m\n",
      "\u001b[?25hDownloading numpy-1.25.2-cp39-cp39-macosx_10_9_x86_64.whl (20.8 MB)\n",
      "\u001b[2K   \u001b[90m━━━━━━━━━━━━━━━━━━━━━━━━━━━━━━━━━━━━━━━━\u001b[0m \u001b[32m20.8/20.8 MB\u001b[0m \u001b[31m16.9 MB/s\u001b[0m eta \u001b[36m0:00:00\u001b[0m00:01\u001b[0m00:01\u001b[0m\n",
      "\u001b[?25hDownloading pydantic-2.3.0-py3-none-any.whl (374 kB)\n",
      "\u001b[2K   \u001b[90m━━━━━━━━━━━━━━━━━━━━━━━━━━━━━━━━━━━━━━━━\u001b[0m \u001b[32m374.5/374.5 kB\u001b[0m \u001b[31m8.2 MB/s\u001b[0m eta \u001b[36m0:00:00\u001b[0m:00:01\u001b[0m\n",
      "\u001b[?25hDownloading pydantic_core-2.6.3-cp39-cp39-macosx_10_7_x86_64.whl (1.7 MB)\n",
      "\u001b[2K   \u001b[90m━━━━━━━━━━━━━━━━━━━━━━━━━━━━━━━━━━━━━━━━\u001b[0m \u001b[32m1.7/1.7 MB\u001b[0m \u001b[31m11.9 MB/s\u001b[0m eta \u001b[36m0:00:00\u001b[0m00:01\u001b[0m00:01\u001b[0m\n",
      "\u001b[?25hDownloading SQLAlchemy-2.0.20-cp39-cp39-macosx_10_9_x86_64.whl (2.1 MB)\n",
      "\u001b[2K   \u001b[90m━━━━━━━━━━━━━━━━━━━━━━━━━━━━━━━━━━━━━━━━\u001b[0m \u001b[32m2.1/2.1 MB\u001b[0m \u001b[31m8.8 MB/s\u001b[0m eta \u001b[36m0:00:00\u001b[0m:00:01\u001b[0m0:01\u001b[0mm\n",
      "\u001b[?25hDownloading tenacity-8.2.3-py3-none-any.whl (24 kB)\n",
      "Downloading annotated_types-0.5.0-py3-none-any.whl (11 kB)\n",
      "Downloading marshmallow-3.20.1-py3-none-any.whl (49 kB)\n",
      "\u001b[2K   \u001b[90m━━━━━━━━━━━━━━━━━━━━━━━━━━━━━━━━━━━━━━━━\u001b[0m \u001b[32m49.4/49.4 kB\u001b[0m \u001b[31m1.2 MB/s\u001b[0m eta \u001b[36m0:00:00\u001b[0m\n",
      "\u001b[?25hDownloading typing_inspect-0.9.0-py3-none-any.whl (8.8 kB)\n",
      "Installing collected packages: tenacity, pydantic-core, numpy, mypy-extensions, marshmallow, greenlet, annotated-types, typing-inspect, SQLAlchemy, pydantic, numexpr, langsmith, dataclasses-json, langchain\n",
      "Successfully installed SQLAlchemy-2.0.20 annotated-types-0.5.0 dataclasses-json-0.5.14 greenlet-2.0.2 langchain-0.0.283 langsmith-0.0.33 marshmallow-3.20.1 mypy-extensions-1.0.0 numexpr-2.8.5 numpy-1.25.2 pydantic-2.3.0 pydantic-core-2.6.3 tenacity-8.2.3 typing-inspect-0.9.0\n"
     ]
    }
   ],
   "source": [
    "!pip install langchain"
   ]
  },
  {
   "cell_type": "code",
   "execution_count": 16,
   "id": "ac24c82c-cd20-47ba-9551-1a35d6626bd1",
   "metadata": {},
   "outputs": [
    {
     "name": "stdout",
     "output_type": "stream",
     "text": [
      "[SystemMessage(content='Du bist eine Software, die Aufgaben in einem JSON-Format für Schüler für den Mathematikunterricht erstellt. Die Aufgaben sollen für ein Quiz genutzt werden. Das Ziel der Aufgaben ist, dass die Schüler ihre Kenntnisse in Mathematik üben und verbessern können. Du sollst keinen Text, sondern nur ein JSON-Objekt zurückgeben.', additional_kwargs={}), HumanMessage(content='Erstelle 10 verschiedene Aufgaben für ein für ein Quiz in Mathe in der Jahrgangsstufe 8. Das Quiz wird im Rahmen des Unterrichts an einer Mittelschule eingesetzt. Der Schwierigkeitsgrad soll moderat sein. Das Ziel der Aufgaben ist: Die Schüler*innen können Brüche erweitern und kürzen.. Die Schülerinnen kennen die Grundlagen der Bruchrechnung. Folgende Aufgabentypen sollen hierbei enthalten sein: Multiple Choice, Single Choice, Short Answer. Erstelle erst die Aufgabenstellung. Erstelle dann für die Multiple Choice Aufgaben mindestens zwei richtige und mehrere falsche Antworten, für die Single Choice Aufgabe genau eine richtige Antwort und mehrere falsche Antworten. Bei Short Answer Aufgaben gibt der Schüler die Antwort selbst an. \\n\\nDas JSON-Format für jede Aufgabe sieht so aus: { \"type\": <\"multiple_choice\" or \"single_choice\" or \"short_answer\" depending on the exercise>, \"question\": <text string>, \"options\": <list of possible answers>, \"correct_options\": <list of indices indicating which answer from \"options\" is correct> } \\nGib nur eine Liste von JSON-Objekten mit diesem Format zurück: [{}].\\nFormatiere alle Mathe-Symbole als Latex. \\n\\nBeachte: In der Ausgabe soll kein Plain Text, sondern nur JSON stehen!\\n', additional_kwargs={}, example=False)]\n"
     ]
    }
   ],
   "source": [
    "from langchain.chat_models import ChatOpenAI\n",
    "from langchain.prompts import ChatPromptTemplate\n",
    "from langchain.prompts.chat import SystemMessage, HumanMessagePromptTemplate\n",
    "\n",
    "template_string = \"\"\"Erstelle {number_exercises} verschiedene Aufgaben für ein für {category} \\\n",
    "in {subject} \\\n",
    "in der Jahrgangsstufe {grade}. \\\n",
    "Das Quiz wird im Rahmen des Unterrichts an einer Mittelschule eingesetzt. \\\n",
    "Der Schwierigkeitsgrad soll {level} sein. \\\n",
    "Das Ziel der Aufgaben ist: {goal}. \\\n",
    "Die Schülerinnen kennen die Grundlagen der Bruchrechnung. Folgende Aufgabentypen sollen hierbei enthalten sein: {exercise_types}. \\\n",
    "{info}\n",
    "\"\"\"\n",
    "\n",
    "template = ChatPromptTemplate.from_messages(\n",
    "    [\n",
    "        SystemMessage(\n",
    "            content=(\n",
    "                \"\"\"Du bist eine Software, die Aufgaben in einem JSON-Format für \\\n",
    "Schüler für den Mathematikunterricht erstellt. Die Aufgaben sollen \\\n",
    "für ein Quiz genutzt werden. Das Ziel der Aufgaben ist, dass die \\\n",
    "Schüler ihre Kenntnisse in Mathematik üben und verbessern können. \\\n",
    "Du sollst keinen Text, sondern nur ein JSON-Objekt zurückgeben.\"\"\"\n",
    "            )\n",
    "        ),\n",
    "        HumanMessagePromptTemplate.from_template(template_string),\n",
    "    ]\n",
    ")\n",
    "\n",
    "chat = ChatOpenAI(openai_api_key=openai.api_key, temperature=0.0)\n",
    "\n",
    "prompt_to_generate_exercises = template.format_messages(subject=subject, \n",
    "                                                               grade=grade, \n",
    "                                                               level=level.value, \n",
    "                                                               topic=topic, \n",
    "                                                               goal=goal, \n",
    "                                                               category=category.value, \n",
    "                                                               exercise_types=', '.join([item.value for item in exercise_types]), \n",
    "                                                               number_exercises=number_exercises, \n",
    "                                                               info=info\n",
    "                                                              )\n",
    "print(prompt_to_generate_exercises)"
   ]
  },
  {
   "cell_type": "markdown",
   "id": "8a4e453f-53f9-47b5-a34d-e3e1ce46d9b3",
   "metadata": {},
   "source": [
    "## Generate exercises\n",
    "Now we see in what this prompt results:"
   ]
  },
  {
   "cell_type": "code",
   "execution_count": 17,
   "id": "cc9770ed-867c-4877-94bf-59d6ae062a02",
   "metadata": {},
   "outputs": [
    {
     "name": "stdout",
     "output_type": "stream",
     "text": [
      "[\n",
      "  {\n",
      "    \"type\": \"multiple_choice\",\n",
      "    \"question\": \"Welche der folgenden Optionen erweitert den Bruch $\\\\frac{3}{4}$ auf $\\\\frac{9}{12}$?\",\n",
      "    \"options\": [\n",
      "      \"$\\\\frac{1}{2}$\",\n",
      "      \"$\\\\frac{2}{3}$\",\n",
      "      \"$\\\\frac{3}{5}$\",\n",
      "      \"$\\\\frac{4}{6}$\"\n",
      "    ],\n",
      "    \"correct_options\": [1, 3]\n",
      "  },\n",
      "  {\n",
      "    \"type\": \"single_choice\",\n",
      "    \"question\": \"Welche der folgenden Optionen kürzt den Bruch $\\\\frac{12}{16}$ auf $\\\\frac{3}{4}$?\",\n",
      "    \"options\": [\n",
      "      \"$\\\\frac{2}{3}$\",\n",
      "      \"$\\\\frac{3}{4}$\",\n",
      "      \"$\\\\frac{4}{5}$\",\n",
      "      \"$\\\\frac{5}{6}$\"\n",
      "    ],\n",
      "    \"correct_options\": [0]\n",
      "  },\n",
      "  {\n",
      "    \"type\": \"short_answer\",\n",
      "    \"question\": \"Kürze den Bruch $\\\\frac{16}{24}$ auf den kleinstmöglichen Bruch.\"\n",
      "  },\n",
      "  {\n",
      "    \"type\": \"multiple_choice\",\n",
      "    \"question\": \"Welche der folgenden Optionen erweitert den Bruch $\\\\frac{5}{8}$ auf $\\\\frac{15}{24}$?\",\n",
      "    \"options\": [\n",
      "      \"$\\\\frac{1}{3}$\",\n",
      "      \"$\\\\frac{2}{4}$\",\n",
      "      \"$\\\\frac{3}{5}$\",\n",
      "      \"$\\\\frac{4}{6}$\"\n",
      "    ],\n",
      "    \"correct_options\": [1, 3]\n",
      "  },\n",
      "  {\n",
      "    \"type\": \"single_choice\",\n",
      "    \"question\": \"Welche der folgenden Optionen kürzt den Bruch $\\\\frac{18}{27}$ auf $\\\\frac{2}{3}$?\",\n",
      "    \"options\": [\n",
      "      \"$\\\\frac{2}{3}$\",\n",
      "      \"$\\\\frac{3}{4}$\",\n",
      "      \"$\\\\frac{4}{5}$\",\n",
      "      \"$\\\\frac{5}{6}$\"\n",
      "    ],\n",
      "    \"correct_options\": [0]\n",
      "  },\n",
      "  {\n",
      "    \"type\": \"short_answer\",\n",
      "    \"question\": \"Kürze den Bruch $\\\\frac{20}{30}$ auf den kleinstmöglichen Bruch.\"\n",
      "  },\n",
      "  {\n",
      "    \"type\": \"multiple_choice\",\n",
      "    \"question\": \"Welche der folgenden Optionen erweitert den Bruch $\\\\frac{7}{10}$ auf $\\\\frac{21}{30}$?\",\n",
      "    \"options\": [\n",
      "      \"$\\\\frac{1}{3}$\",\n",
      "      \"$\\\\frac{2}{4}$\",\n",
      "      \"$\\\\frac{3}{5}$\",\n",
      "      \"$\\\\frac{4}{6}$\"\n",
      "    ],\n",
      "    \"correct_options\": [1, 3]\n",
      "  },\n",
      "  {\n",
      "    \"type\": \"single_choice\",\n",
      "    \"question\": \"Welche der folgenden Optionen kürzt den Bruch $\\\\frac{24}{36}$ auf $\\\\frac{2}{3}$?\",\n",
      "    \"options\": [\n",
      "      \"$\\\\frac{2}{3}$\",\n",
      "      \"$\\\\frac{3}{4}$\",\n",
      "      \"$\\\\frac{4}{5}$\",\n",
      "      \"$\\\\frac{5}{6}$\"\n",
      "    ],\n",
      "    \"correct_options\": [0]\n",
      "  },\n",
      "  {\n",
      "    \"type\": \"short_answer\",\n",
      "    \"question\": \"Kürze den Bruch $\\\\frac{28}{42}$ auf den kleinstmöglichen Bruch.\"\n",
      "  },\n",
      "  {\n",
      "    \"type\": \"multiple_choice\",\n",
      "    \"question\": \"Welche der folgenden Optionen erweitert den Bruch $\\\\frac{9}{12}$ auf $\\\\frac{27}{36}$?\",\n",
      "    \"options\": [\n",
      "      \"$\\\\frac{1}{2}$\",\n",
      "      \"$\\\\frac{2}{3}$\",\n",
      "      \"$\\\\frac{3}{5}$\",\n",
      "      \"$\\\\frac{4}{6}$\"\n",
      "    ],\n",
      "    \"correct_options\": [1, 3]\n",
      "  },\n",
      "  {\n",
      "    \"type\": \"single_choice\",\n",
      "    \"question\": \"Welche der folgenden Optionen kürzt den Bruch $\\\\frac{30}{45}$ auf $\\\\frac{2}{3}$?\",\n",
      "    \"options\": [\n",
      "      \"$\\\\frac{2}{3}$\",\n",
      "      \"$\\\\frac{3}{4}$\",\n",
      "      \"$\\\\frac{4}{5}$\",\n",
      "      \"$\\\\frac{5}{6}$\"\n",
      "    ],\n",
      "    \"correct_options\": [0]\n",
      "  },\n",
      "  {\n",
      "    \"type\": \"short_answer\",\n",
      "    \"question\": \"Kürze den Bruch $\\\\frac{36}{54}$ auf den kleinstmöglichen Bruch.\"\n",
      "  }\n",
      "]\n"
     ]
    }
   ],
   "source": [
    "generated_exercises = chat(prompt_to_generate_exercises)\n",
    "print(generated_exercises.content)"
   ]
  },
  {
   "cell_type": "code",
   "execution_count": null,
   "id": "a0fdc3e0",
   "metadata": {},
   "outputs": [],
   "source": []
  }
 ],
 "metadata": {
  "kernelspec": {
   "display_name": "Python 3 (ipykernel)",
   "language": "python",
   "name": "python3"
  },
  "language_info": {
   "codemirror_mode": {
    "name": "ipython",
    "version": 3
   },
   "file_extension": ".py",
   "mimetype": "text/x-python",
   "name": "python",
   "nbconvert_exporter": "python",
   "pygments_lexer": "ipython3",
   "version": "3.9.6"
  }
 },
 "nbformat": 4,
 "nbformat_minor": 5
}
