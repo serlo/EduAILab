{
 "cells": [
  {
   "cell_type": "markdown",
   "id": "5cb10ba4-7923-4295-9a33-285400356688",
   "metadata": {},
   "source": [
    "# Generate first draft for content\n",
    "\n",
    "It could help authors, if instead of having to start new content from zero, a Langchain Agent would generate a first draft that they then refine before submitting for review. In this notebook we want to explore how this idea could work."
   ]
  },
  {
   "cell_type": "markdown",
   "id": "a17d5ede-9951-4bc3-928f-f35ebe9d52ad",
   "metadata": {},
   "source": [
    "## Set up tools for agent\n",
    "\n",
    "First, we have to prepare some tools that we can provide to the agent. We obviously need a large language model (LLM). Additionally, we can equip the agent with already written tools for using a calculator, search engine, Wikipedia or Wolfram Alpha. You can view the full list [here](https://python.langchain.com/docs/integrations/tools/). It is also possible to define own tools."
   ]
  },
  {
   "cell_type": "code",
   "execution_count": 1,
   "id": "e69f635c-a6b5-4bcd-b4df-afdcd8e8681e",
   "metadata": {},
   "outputs": [
    {
     "name": "stdout",
     "output_type": "stream",
     "text": [
      "Defaulting to user installation because normal site-packages is not writeable\n",
      "Requirement already satisfied: langchain in /home/andreas/.local/lib/python3.11/site-packages (0.0.263)\n",
      "Requirement already satisfied: PyYAML>=5.3 in /usr/lib64/python3.11/site-packages (from langchain) (6.0)\n",
      "Requirement already satisfied: SQLAlchemy<3,>=1.4 in /home/andreas/.local/lib/python3.11/site-packages (from langchain) (2.0.19)\n",
      "Requirement already satisfied: aiohttp<4.0.0,>=3.8.3 in /home/andreas/.local/lib/python3.11/site-packages (from langchain) (3.8.5)\n",
      "Requirement already satisfied: dataclasses-json<0.6.0,>=0.5.7 in /home/andreas/.local/lib/python3.11/site-packages (from langchain) (0.5.14)\n",
      "Requirement already satisfied: langsmith<0.1.0,>=0.0.11 in /home/andreas/.local/lib/python3.11/site-packages (from langchain) (0.0.22)\n",
      "Requirement already satisfied: numexpr<3.0.0,>=2.8.4 in /home/andreas/.local/lib/python3.11/site-packages (from langchain) (2.8.5)\n",
      "Requirement already satisfied: numpy<2,>=1 in /home/andreas/.local/lib/python3.11/site-packages (from langchain) (1.25.2)\n",
      "Requirement already satisfied: openapi-schema-pydantic<2.0,>=1.2 in /home/andreas/.local/lib/python3.11/site-packages (from langchain) (1.2.4)\n",
      "Requirement already satisfied: pydantic<2,>=1 in /home/andreas/.local/lib/python3.11/site-packages (from langchain) (1.10.12)\n",
      "Requirement already satisfied: requests<3,>=2 in /usr/lib/python3.11/site-packages (from langchain) (2.28.2)\n",
      "Requirement already satisfied: tenacity<9.0.0,>=8.1.0 in /home/andreas/.local/lib/python3.11/site-packages (from langchain) (8.2.2)\n",
      "Requirement already satisfied: attrs>=17.3.0 in /usr/lib/python3.11/site-packages (from aiohttp<4.0.0,>=3.8.3->langchain) (22.2.0)\n",
      "Requirement already satisfied: charset-normalizer<4.0,>=2.0 in /usr/lib/python3.11/site-packages (from aiohttp<4.0.0,>=3.8.3->langchain) (3.1.0)\n",
      "Requirement already satisfied: multidict<7.0,>=4.5 in /home/andreas/.local/lib/python3.11/site-packages (from aiohttp<4.0.0,>=3.8.3->langchain) (6.0.4)\n",
      "Requirement already satisfied: async-timeout<5.0,>=4.0.0a3 in /home/andreas/.local/lib/python3.11/site-packages (from aiohttp<4.0.0,>=3.8.3->langchain) (4.0.3)\n",
      "Requirement already satisfied: yarl<2.0,>=1.0 in /home/andreas/.local/lib/python3.11/site-packages (from aiohttp<4.0.0,>=3.8.3->langchain) (1.9.2)\n",
      "Requirement already satisfied: frozenlist>=1.1.1 in /home/andreas/.local/lib/python3.11/site-packages (from aiohttp<4.0.0,>=3.8.3->langchain) (1.4.0)\n",
      "Requirement already satisfied: aiosignal>=1.1.2 in /home/andreas/.local/lib/python3.11/site-packages (from aiohttp<4.0.0,>=3.8.3->langchain) (1.3.1)\n",
      "Requirement already satisfied: marshmallow<4.0.0,>=3.18.0 in /home/andreas/.local/lib/python3.11/site-packages (from dataclasses-json<0.6.0,>=0.5.7->langchain) (3.20.1)\n",
      "Requirement already satisfied: typing-inspect<1,>=0.4.0 in /home/andreas/.local/lib/python3.11/site-packages (from dataclasses-json<0.6.0,>=0.5.7->langchain) (0.9.0)\n",
      "Requirement already satisfied: typing-extensions>=4.2.0 in /home/andreas/.local/lib/python3.11/site-packages (from pydantic<2,>=1->langchain) (4.7.1)\n",
      "Requirement already satisfied: idna<4,>=2.5 in /usr/lib/python3.11/site-packages (from requests<3,>=2->langchain) (3.4)\n",
      "Requirement already satisfied: urllib3<1.27,>=1.21.1 in /usr/lib/python3.11/site-packages (from requests<3,>=2->langchain) (1.26.16)\n",
      "Requirement already satisfied: greenlet!=0.4.17 in /home/andreas/.local/lib/python3.11/site-packages (from SQLAlchemy<3,>=1.4->langchain) (2.0.2)\n",
      "Requirement already satisfied: packaging>=17.0 in /usr/lib/python3.11/site-packages (from marshmallow<4.0.0,>=3.18.0->dataclasses-json<0.6.0,>=0.5.7->langchain) (23.0)\n",
      "Requirement already satisfied: mypy-extensions>=0.3.0 in /home/andreas/.local/lib/python3.11/site-packages (from typing-inspect<1,>=0.4.0->dataclasses-json<0.6.0,>=0.5.7->langchain) (1.0.0)\n"
     ]
    }
   ],
   "source": [
    "!pip install langchain"
   ]
  },
  {
   "cell_type": "markdown",
   "id": "1e7b9d1c-b011-4417-bf8e-350cbce9c5c4",
   "metadata": {},
   "source": [
    "### LLM\n",
    "We choose OpenAI as the LLM provider for no particular reason other than that we yet have to try others and compare."
   ]
  },
  {
   "cell_type": "code",
   "execution_count": 2,
   "id": "478bcfff-428b-4cf2-bcc0-8085f67fc374",
   "metadata": {},
   "outputs": [],
   "source": [
    "import os\n",
    "\n",
    "from dotenv import load_dotenv, find_dotenv\n",
    "_ = load_dotenv(find_dotenv()) # read local .env file for OPENAI_API_KEY"
   ]
  },
  {
   "cell_type": "code",
   "execution_count": 3,
   "id": "cb7fe52c-a113-46f0-a4dd-f9f4c8085647",
   "metadata": {},
   "outputs": [],
   "source": [
    "from langchain.chat_models import ChatOpenAI\n",
    "llm = ChatOpenAI(temperature=0)"
   ]
  },
  {
   "cell_type": "markdown",
   "id": "0bb6063a-413f-48c4-9190-4d458e9edc4c",
   "metadata": {},
   "source": [
    "### Tools\n",
    "LLMs are not good at calculating, so let's provide a calculator for calculation tasks. Generally, LLMs are bad at anything maths. This is unfortunate for serlo.org having a maths focus. We may later consider also providing Wolfram Alpha as a tool to help. We would first have to find out how to get access to that, though."
   ]
  },
  {
   "cell_type": "code",
   "execution_count": 4,
   "id": "5a7ca998-d3c0-424a-bec7-44371fc3455f",
   "metadata": {},
   "outputs": [],
   "source": [
    "from langchain.agents import load_tools"
   ]
  },
  {
   "cell_type": "code",
   "execution_count": 5,
   "id": "afd7f1d7-0afd-449b-928e-d65555fcd1ef",
   "metadata": {},
   "outputs": [],
   "source": [
    "tools = load_tools([\"llm-math\"], llm=llm)"
   ]
  },
  {
   "cell_type": "markdown",
   "id": "fa76641d-2c7e-4cc2-b295-db7889b8541e",
   "metadata": {},
   "source": [
    "To prevent the LLM from producing so called \"hallucinations\", we equip it with Wikipedia for fact checking:"
   ]
  },
  {
   "cell_type": "code",
   "execution_count": 6,
   "id": "22d29b74-7f07-415b-8299-9e09db8e9dec",
   "metadata": {},
   "outputs": [
    {
     "name": "stdout",
     "output_type": "stream",
     "text": [
      "Defaulting to user installation because normal site-packages is not writeable\n",
      "Requirement already satisfied: wikipedia in /home/andreas/.local/lib/python3.11/site-packages (1.4.0)\n",
      "Requirement already satisfied: beautifulsoup4 in /usr/lib/python3.11/site-packages (from wikipedia) (4.12.2)\n",
      "Requirement already satisfied: requests<3.0.0,>=2.0.0 in /usr/lib/python3.11/site-packages (from wikipedia) (2.28.2)\n",
      "Requirement already satisfied: charset-normalizer<4,>=2 in /usr/lib/python3.11/site-packages (from requests<3.0.0,>=2.0.0->wikipedia) (3.1.0)\n",
      "Requirement already satisfied: idna<4,>=2.5 in /usr/lib/python3.11/site-packages (from requests<3.0.0,>=2.0.0->wikipedia) (3.4)\n",
      "Requirement already satisfied: urllib3<1.27,>=1.21.1 in /usr/lib/python3.11/site-packages (from requests<3.0.0,>=2.0.0->wikipedia) (1.26.16)\n",
      "Requirement already satisfied: soupsieve>1.2 in /usr/lib/python3.11/site-packages (from beautifulsoup4->wikipedia) (2.4.1)\n"
     ]
    }
   ],
   "source": [
    "!pip install wikipedia"
   ]
  },
  {
   "cell_type": "code",
   "execution_count": 7,
   "id": "c0496eee-ef88-40c8-8375-b87229162767",
   "metadata": {},
   "outputs": [],
   "source": [
    "tools += load_tools([\"wikipedia\"])"
   ]
  },
  {
   "cell_type": "markdown",
   "id": "287953df-88d9-4bc3-97be-1bd96bcc4093",
   "metadata": {},
   "source": [
    "If we use a search engine, we may have to consider copyright of found results."
   ]
  },
  {
   "cell_type": "code",
   "execution_count": 8,
   "id": "6c086fc5-f423-4b4c-95c0-9d6ceaee7f06",
   "metadata": {},
   "outputs": [],
   "source": [
    "from langchain.tools import BraveSearch\n",
    "search_tool = BraveSearch.from_api_key(api_key=\"BSAv1neIuQOsxqOyy0sEe_ie2zD_n_V\", search_kwargs={\"count\": 3})\n",
    "\n",
    "#test it\n",
    "#print(search_tool.run(\"schulferien bayern\"))\n",
    "\n",
    "#tools += search_tool"
   ]
  },
  {
   "cell_type": "markdown",
   "id": "d394c45d-e99f-4439-80c6-b30fcf03baa0",
   "metadata": {},
   "source": [
    "### Advanced tools\n",
    "We would like our generated article to not only be text but also have some helpful graphics. An option to consider for this, is using a Python agent as a tool that would create the Python code for plotting functions or diagrams and run it. "
   ]
  },
  {
   "cell_type": "code",
   "execution_count": 9,
   "id": "f0e34800-97b4-41ff-82cd-cbf1bc34eec8",
   "metadata": {},
   "outputs": [],
   "source": [
    "# todo"
   ]
  },
  {
   "cell_type": "markdown",
   "id": "31caddce-75bc-4454-9dc6-b6b8cf91a5cd",
   "metadata": {},
   "source": [
    "## Set up agent for content creation\n",
    "\n",
    "After defining our tools, we now create the agent to use them:"
   ]
  },
  {
   "cell_type": "code",
   "execution_count": 10,
   "id": "b31507b6-9ed5-4b3d-a202-5f51bdf47e2a",
   "metadata": {},
   "outputs": [],
   "source": [
    "from langchain.agents import initialize_agent, AgentType\n",
    "\n",
    "agent= initialize_agent(\n",
    "    tools, \n",
    "    llm, \n",
    "    agent=AgentType.CHAT_ZERO_SHOT_REACT_DESCRIPTION,\n",
    "    handle_parsing_errors=True,\n",
    "    verbose = True) # for this experimentation, we of course want to know what the agent does"
   ]
  },
  {
   "cell_type": "markdown",
   "id": "f4a384a2-80e1-4576-a0be-368a1f196189",
   "metadata": {},
   "source": [
    "## Prepare article creation task for the agent\n",
    "\n",
    "We start by creating a few variables that could be the information retrieved from the author in an actual product. We could try different inputs here."
   ]
  },
  {
   "cell_type": "code",
   "execution_count": 11,
   "id": "4bee76da-977a-4d8a-bcaf-63754638f867",
   "metadata": {},
   "outputs": [],
   "source": [
    "title: str = \"Ableitung\"\n",
    "jahrgangsstufe: int = 8\n",
    "schulart: str = \"Hauptschule\"\n",
    "schulfach: str = \"Mathematik\""
   ]
  },
  {
   "cell_type": "code",
   "execution_count": 12,
   "id": "539af491-6777-41fd-a6c2-2b3c7230f823",
   "metadata": {},
   "outputs": [],
   "source": [
    "from langchain.prompts import ChatPromptTemplate\n",
    "\n",
    "style = \"\"\"Deutsch \\\n",
    "in einfacher Sprache, so dass selbst lernschwache %d-Klässler der Schulart %s das Thema gut verstehen\n",
    "\"\"\" % (jahrgangsstufe, schulart)\n",
    "\n",
    "template_string = \"\"\"\n",
    "Erstelle einen Schulbuchartikel im Fach {schulfach} zum Thema {title} im folgenden Stil: {style}. \\\n",
    "Verwende LateX für mathematische Notation. \\\n",
    "Für Grafiken zur Veranschaulichung kannst du \n",
    "\"\"\"\n",
    "prompt_template = ChatPromptTemplate.from_template(template_string)\n",
    "article_creation_task = prompt_template.format_messages(style=style, title=title, schulfach=schulfach)[0].content"
   ]
  },
  {
   "cell_type": "markdown",
   "id": "8685bcc9-3de0-4ece-803f-73bd5559faaa",
   "metadata": {},
   "source": [
    "## Let the agent perform article creation task\n",
    "\n",
    "Let's see how our agent does with the given task:"
   ]
  },
  {
   "cell_type": "code",
   "execution_count": 13,
   "id": "3044d0f3-aedc-4d5e-b0ea-39402d85aca2",
   "metadata": {},
   "outputs": [],
   "source": [
    "#agent.run(article_creation_task)"
   ]
  },
  {
   "cell_type": "markdown",
   "id": "d958d5a8-3d11-4399-bae4-78920f935361",
   "metadata": {},
   "source": [
    "## Get article into Serlo Editor format\n",
    "\n",
    "To display the article in the editor, we need it in the Serlo Editor JSON format described in the [documentation wiki](https://github.com/serlo/documentation/wiki/Content-format). So we would make a text plugin per text paragraph, equations plugin per LateX expression, and so on. This seems to be a task to be solved programatically, not with machine learning models."
   ]
  },
  {
   "cell_type": "code",
   "execution_count": 14,
   "id": "96af4f8f-8fad-43db-8bc6-ea6138a123cf",
   "metadata": {},
   "outputs": [],
   "source": [
    "# todo"
   ]
  },
  {
   "cell_type": "markdown",
   "id": "af5cce32-d24c-42c7-92ce-8ff1157c776b",
   "metadata": {},
   "source": [
    "## Prepare solution creation task for the agent\n",
    "\n",
    "Since creating a solution is in a lot of ways not so different from creating an article, we now try this as well. First we need to get an exercise:"
   ]
  },
  {
   "cell_type": "code",
   "execution_count": 15,
   "id": "9defaf85-dfac-4c79-aa04-41fba4413327",
   "metadata": {},
   "outputs": [],
   "source": [
    "import json\n",
    "import requests\n",
    "\n",
    "def get_exercise_from_uuid(uuid_article):\n",
    "    req = requests.post(\n",
    "        #\"https://de.serlo.org/api/frontend/localhost-graphql-fetch\",\n",
    "        \"https://api.serlo-staging.dev/graphql\",\n",
    "        headers = {\n",
    "            \"Content-Type\": \"application/json\",\n",
    "        },\n",
    "        json = {\n",
    "            \"query\": \"\"\"\n",
    "            query {\n",
    "              uuid(id: %d) {\n",
    "                ... on Exercise {\n",
    "                  currentRevision { \n",
    "                    id\n",
    "                    content\n",
    "                  }\n",
    "                }\n",
    "              }\n",
    "            }\n",
    "            \"\"\" % uuid_article\n",
    "        }\n",
    "    )\n",
    "    \n",
    "    return req.json()"
   ]
  }
 ],
 "metadata": {
  "kernelspec": {
   "display_name": "Python 3 (ipykernel)",
   "language": "python",
   "name": "python3"
  },
  "language_info": {
   "codemirror_mode": {
    "name": "ipython",
    "version": 3
   },
   "file_extension": ".py",
   "mimetype": "text/x-python",
   "name": "python",
   "nbconvert_exporter": "python",
   "pygments_lexer": "ipython3",
   "version": "3.11.4"
  }
 },
 "nbformat": 4,
 "nbformat_minor": 5
}
