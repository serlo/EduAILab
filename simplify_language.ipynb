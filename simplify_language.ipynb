{
 "cells": [
  {
   "cell_type": "markdown",
   "id": "ce612b3b-0a55-4fcb-8299-28fb49f1a1e1",
   "metadata": {},
   "source": [
    "# Simplify the language of an article"
   ]
  },
  {
   "cell_type": "markdown",
   "id": "f545599a-abfa-46e2-b694-dcd3deaafebe",
   "metadata": {},
   "source": [
    "## Retrieve Serlo article text for testing\n",
    "\n",
    "We first define some helper function to retrieve a Serlo article text to be used as a test subject:"
   ]
  },
  {
   "cell_type": "code",
   "execution_count": 1,
   "id": "5d741747-8d06-45fa-a68b-df2ae8fa9a2f",
   "metadata": {},
   "outputs": [],
   "source": [
    "import json\n",
    "import requests\n",
    "\n",
    "def get_article_from_uuid(uuid_article):\n",
    "    req = requests.post(\n",
    "        #\"https://de.serlo.org/api/frontend/localhost-graphql-fetch\",\n",
    "        \"https://api.serlo-staging.dev/graphql\",\n",
    "        headers = {\n",
    "            \"Content-Type\": \"application/json\",\n",
    "        },\n",
    "        json = {\n",
    "            \"query\": \"\"\"\n",
    "            query {\n",
    "              uuid(id: %d) {\n",
    "                ... on Article {\n",
    "                  currentRevision { \n",
    "                    id\n",
    "                    content\n",
    "                  }\n",
    "                }\n",
    "              }\n",
    "            }\n",
    "            \"\"\" % uuid_article\n",
    "        }\n",
    "    )\n",
    "    \n",
    "    return req.json()\n",
    "\n",
    "def extract_strings_from_object(obj):\n",
    "    strings = []\n",
    "\n",
    "    if isinstance(obj, dict):\n",
    "        for key, value in obj.items():\n",
    "            if key == 'text':\n",
    "                strings.append(value)\n",
    "            else:\n",
    "                strings.extend(extract_strings_from_object(value))\n",
    "    elif isinstance(obj, list):\n",
    "        for item in obj:\n",
    "            strings.extend(extract_strings_from_object(item))\n",
    "\n",
    "    return strings"
   ]
  },
  {
   "cell_type": "markdown",
   "id": "5a3e17af-51ae-4b41-bd07-c02f556b6051",
   "metadata": {},
   "source": [
    "Now we can use that to get the text of an article:"
   ]
  },
  {
   "cell_type": "code",
   "execution_count": 2,
   "id": "78d9b989-477a-4202-9a8c-bc0b9dee5f7c",
   "metadata": {},
   "outputs": [
    {
     "data": {
      "text/plain": [
       "'Die Ableitung einer Funktion f an einer Stelle x gibt die Steigung des Graphen der Funktion an dieser Stelle an. Bezeichnet wird sie zumeist mit f\\'(x) . Ist f\\'(x_0)>0 , so steigt \\xa0der Graph von f an der Stelle x_0 . Ist f\\'(x_0)<0 , so fällt der Graph von f an der Stelle x_0 . An den Extremstellen der Funktion und an Terrassenpunkten  gilt: f\\'(x_0)=0 . \\xa0 Die Ableitung spielt daher eine wichtige Rolle bei der Berechnung der Extrema und bei der Untersuchung der Monotonie einer Funktion. Funktionen, die an jeder Stelle x der Definitionsmenge eine Ableitung besitzen, nennt man differenzierbar . Das Berechnen der Ableitung nennt man\\xa0 Differenzieren . Für die Berechnung der Ableitung existieren entsprechende Ableitungsregeln . Definition Die Ableitung an einem Punkt Die Ableitung ist zunächst nur für einen Punkt \\\\left(x_0\\\\;\\\\left|\\\\;f\\\\left(x_0\\\\right)\\\\right.\\\\right) \\xa0auf dem Graphen einer Funktion f\\\\left(x\\\\right) bzw. für eine Stelle x_0 definiert. Sie ist gegeben durch  oder alternativ  Anschaulich erhält man durch den Differenzenquotienten die Steigung der Sekante durch den Punkt \\\\left(x_0\\\\;\\\\left|\\\\;f\\\\left(x_0\\\\right)\\\\right.\\\\right) und einen anderen Punkt auf dem Funktionsgraphen.\\xa0Die Idee bei beiden Definitionen ist, dass man die Tangente durch Sekanten annähert, indem man den x-Wert des zweiten Punktes immer näher an x_0 wählt. Was bedeutet diese Definition anschaulich? Die Bilderfolge veranschaulicht die Bildung des Grenzwerts mit der Definition\\xa0 \\\\displaystyle \\\\lim_{h\\\\rightarrow0}\\\\frac{f\\\\left(x_0+h\\\\right)-f\\\\left(x_0\\\\right)}h. Im Folgenden wird die Ableitung der Funktion f\\\\left(x\\\\right) an der Stelle x_0 berechnet. Der Punkt A=(x_{0}|f(x_0)) ist der entsprechende Punkt auf dem roten Funktionsgraphen.  Nun wähle man einen zweiten Punkt B , dessen x-Koordinate um h größer ist als  x_0 , also x_0+h . Dieser Punkt besitzt also die Koordinaten B=(x_0+h|f(x_0+h)) . Durch diese zwei Punkte A und B lässt sich die zugehörige Sekante g bestimmen. Wird nun der Punkt B auf dem Graphen in Richtung von A \"geschoben\" (d.h. die x-Koordinate x_B von B immer weiter an die x-Koordinate x_A von A angenähert, also h immer weiter verringert), so wird die Sekante g im Grenzfall x_B=x_A=x_0 zur Tangente. Die mithilfe des Differenzenquotienten ermittelbare Sekantensteigung wird somit zur Tangentensteigung, die wiederum dem Wert der Ableitung der Funktion f an der Stelle x_0 entspricht. A \\xa0und\\xa0 B \\xa0liegen weit auseinander. Die türkise Gerade\\xa0schneidet gut sichtbar den roten Graphen. Man erhält also eine\\xa0 Sekante . Die Steigung der Sekante ist mit einem Steigungsdreieck (vgl. Differenzenquotient) \\\\frac{f\\\\left(x_0+h\\\\right)-f\\\\left(x_0\\\\right)}h zu bestimmen. Nun wird der Grenzwert gebildet. \\\\lim_{h\\\\rightarrow0} \\xa0bedeutet, dass der Wert von h immer kleiner wird. Das bedeutet wiederum, dass\\xa0 x_0 und x_0+h , also A und B immer näher aneinander kommen, bis… … die Differenz h ganz verschwindet, also A=B ist. Die türkise Gerade berührt den roten Graphen an dieser Stelle. Wir bekommen also eine\\xa0 Tangente . Die Steigung dieser Tangente ist gleich der Ableitung an der Stelle x_0 . Existiert die Ableitung für alle Werte des Definitionsbereichs? Nicht jede Funktion besitzt in jedem Punkt eine Ableitung. Das kann zum Beispiel daran liegen, dass die Funktion an einer Stelle einen Knick besitzt oder unstetig ist. So ist zum Beispiel die Betragsfunktion  f(x) = |x| an der Stelle 0 nicht differenzierbar. Der Artikel „ Differenzierbarkeit “ liefert zu diesem Thema genauere Informationen. Die Ableitung als Funktion Von der Ableitung an einem bestimmten Punkt ist es nur ein kleiner Schritt zur Ableitung auf dem ganzen  Definitionsbereich . Denn alle \"normalen\" Funktionen (die in der Schule behandelt werden) besitzen für alle\\xa0 x \\\\in D den gleichen Differenzenquotienten in Abhängigkeit von x .\\xa0In dem Fall kann man die Ableitungen mithilfe der Ableitungsregeln bestimmen. Wir berechnen die Ableitung der Funktion\\xa0 f\\\\left(x\\\\right)=x^2 \\xa0 und benutzen die Definition\\xa0 \\\\lim_{x\\\\rightarrow x_0}\\\\frac{f\\\\left(x\\\\right)-f\\\\left(x_0\\\\right)}{x-x_0} . \\xa0Mithilfe der dritten binomischen Formel bekommen wir für die Ableitung  Das heißt, dass egal an welchem Punkt x_0 wir die Ableitung ausrechnen, wir bekommen immer 2x_0 . Höhere Ableitungen Wenn die erste Ableitung nochmal abgeleitet wird, wird das Ergebnis zweite Ableitung genannt. Die Ableitung der zweiten Ableitung heißt dritte Ableitung und so weiter. Zumeist werden für die Kurvendiskussion nur die ersten drei Ableitungen benötigt. Im Bild erkennt man auch wieder, dass die Ableitung die Steigung der Funktion ist: Die Ableitung von f ist negativ bis 1, und danach positiv. Dementsprechend fällt f\\\\left(x\\\\right) bis x=1 \\xa0und steigt danach. Des Weiteren ist f\\'\\\\left(x\\\\right) \\xa0eine Gerade mit konstanter Steigung und\\xa0 f\\'\\'\\\\left(x\\\\right) \\xa0ist konstant. Notation Die Ableitung einer Funktion wird mit einem Strich ( \\' ) nach der Bezeichnung der Funktion gekennzeichnet. Bei höheren Ableitungen fügt man weitere Striche hinzu. Der Übersichtlichkeit halber verwendet man ab der vierten Ableitung statt der jeweiligen Anzahl an Strichen die entsprechende Zahl hochgestellt und eingeklammert. Funktion f(x) 1. Ableitung f\\'(x) 2. Ableitung f\\'\\'(x) n-te Ableitung f^{(n)}(x) In der Physik gibt es auch die Notation mit einem bzw. mehreren Punkten über der Funktionsbezeichnung für die Ableitungen nach der Zeit. x\\\\Rightarrow\\\\dot x  x(t)\\\\Rightarrow\\\\dot x(t)  \\\\dot y\\\\Rightarrow\\\\ddot y,\\\\dots Als Alternative zu dem Strich kann man auch Differentiale (Für eine Begriffserklärung:\\xa0 Wikipedia ) verwenden. f\\'\\\\left(x\\\\right)=\\\\frac{\\\\mathrm df}{\\\\mathrm dx}\\\\left(x\\\\right)=\\\\frac{\\\\mathrm df\\\\left(x\\\\right)}{\\\\mathrm dx}=\\\\frac{\\\\mathrm d}{\\\\mathrm dx}f\\\\left(x\\\\right) Wofür braucht man Ableitungen? Die erste Ableitung gibt die Steigung einer Funktion an. Hat man eine Funktion gegeben, dann kann man aus der Ableitung zum Beispiel ablesen, wann die Funktion am stärksten steigt bzw. gar nicht steigt und kann dadurch Rückschlüsse ziehen, wie der Funktionsgraph aussieht. Diese Methode dient unter anderem der Bestimmung von Extremstellen bzw. Extremwerten . Bildet man die Ableitung der Ableitung, so erhält man die zweite Ableitung, sozusagen die Steigung der Steigung. Die zweite Ableitung ist die Krümmung des Funktionsgraphen.\\xa0 Die zweite Ableitung ermöglicht z.B. eine Antwort auf die Frage: Wann ist die Steigung konstant? Ableitungen in der Kurvendiskussion Beispiel Bedeutung Ausgangsfunktion f(x)=x^3-6x^2+10x-1 Erste Ableitung f\\'(x)=3x^2-12x+10 Steigung von f Zweite Ableitung f\\'\\'(x)=6x-12 Krümmung von f Jeder x-Wert eines Extremums der Funktion ist eine Nullstelle der Ableitung. Jeder\\xa0x-Wert eines Wendepunktes einer Funktion ist ein x-Wert eines Extremums der Ableitung. Jeder x-Wert eines Wendepunktes einer Funktion ist eine Nullstelle der zweiten Ableitung. Achtung: Die Rückrichtung dieser Aussagen muss nicht richtig sein. Ableitung und Integral Das Integral ist das Gegenstück zur Ableitung. Leitet man eine integrierte Funktion ab, erhält man die ursprüngliche Funktion und ebenso umgekehrt (abgesehen von einer Konstante , die hier noch hinzukommen kann). Dieser Zusammenhang ist die Aussage des Hauptsatzes der Differential- und Integralrechnung (HDI) .'"
      ]
     },
     "metadata": {},
     "output_type": "display_data"
    }
   ],
   "source": [
    "uuid_article = 1795\n",
    "content = get_article_from_uuid(uuid_article)['data']['uuid']['currentRevision']['content']\n",
    "article_text = \" \".join(extract_strings_from_object(json.loads(content))).replace(\"  \",\" \")\n",
    "display(article_text)"
   ]
  },
  {
   "cell_type": "markdown",
   "id": "9775b6ea-4f8f-47ea-ae5c-d605c4c4a0ce",
   "metadata": {},
   "source": [
    "## Use langchain to change the article text"
   ]
  },
  {
   "cell_type": "markdown",
   "id": "4b8a6e54-801f-4b94-8bbc-0f14e3a172fe",
   "metadata": {},
   "source": [
    "### OpneAI setup\n",
    "Use the OpenAI API with GPT-3.5 as the LLM for this first test. We may later try different options like for example Llama-2."
   ]
  },
  {
   "cell_type": "code",
   "execution_count": 3,
   "id": "73b278de-3e95-46a6-bf27-7643f21bc05e",
   "metadata": {},
   "outputs": [
    {
     "name": "stdout",
     "output_type": "stream",
     "text": [
      "Defaulting to user installation because normal site-packages is not writeable\n",
      "Requirement already satisfied: python-dotenv in /usr/lib/python3.11/site-packages (0.21.1)\n",
      "Defaulting to user installation because normal site-packages is not writeable\n",
      "Requirement already satisfied: openai in /home/andreas/.local/lib/python3.11/site-packages (0.27.8)\n",
      "Requirement already satisfied: requests>=2.20 in /usr/lib/python3.11/site-packages (from openai) (2.28.2)\n",
      "Requirement already satisfied: tqdm in /home/andreas/.local/lib/python3.11/site-packages (from openai) (4.65.0)\n",
      "Requirement already satisfied: aiohttp in /home/andreas/.local/lib/python3.11/site-packages (from openai) (3.8.5)\n",
      "Requirement already satisfied: charset-normalizer<4,>=2 in /usr/lib/python3.11/site-packages (from requests>=2.20->openai) (3.1.0)\n",
      "Requirement already satisfied: idna<4,>=2.5 in /usr/lib/python3.11/site-packages (from requests>=2.20->openai) (3.4)\n",
      "Requirement already satisfied: urllib3<1.27,>=1.21.1 in /usr/lib/python3.11/site-packages (from requests>=2.20->openai) (1.26.16)\n",
      "Requirement already satisfied: attrs>=17.3.0 in /usr/lib/python3.11/site-packages (from aiohttp->openai) (22.2.0)\n",
      "Requirement already satisfied: multidict<7.0,>=4.5 in /home/andreas/.local/lib/python3.11/site-packages (from aiohttp->openai) (6.0.4)\n",
      "Requirement already satisfied: async-timeout<5.0,>=4.0.0a3 in /home/andreas/.local/lib/python3.11/site-packages (from aiohttp->openai) (4.0.3)\n",
      "Requirement already satisfied: yarl<2.0,>=1.0 in /home/andreas/.local/lib/python3.11/site-packages (from aiohttp->openai) (1.9.2)\n",
      "Requirement already satisfied: frozenlist>=1.1.1 in /home/andreas/.local/lib/python3.11/site-packages (from aiohttp->openai) (1.4.0)\n",
      "Requirement already satisfied: aiosignal>=1.1.2 in /home/andreas/.local/lib/python3.11/site-packages (from aiohttp->openai) (1.3.1)\n"
     ]
    }
   ],
   "source": [
    "!pip install python-dotenv\n",
    "!pip install openai"
   ]
  },
  {
   "cell_type": "code",
   "execution_count": 4,
   "id": "0e194574-7d09-4dd7-aad6-3a1a6cb65aae",
   "metadata": {},
   "outputs": [],
   "source": [
    "import os\n",
    "import openai\n",
    "\n",
    "from dotenv import load_dotenv, find_dotenv\n",
    "_ = load_dotenv(find_dotenv()) # read local .env file\n",
    "openai.api_key = os.environ['OPENAI_API_KEY']"
   ]
  },
  {
   "cell_type": "markdown",
   "id": "31867c92-d1c4-41ed-be69-6e27f21b4ba1",
   "metadata": {},
   "source": [
    "### Langchain setup"
   ]
  },
  {
   "cell_type": "code",
   "execution_count": 5,
   "id": "30a0cdc8-f7fd-4cc6-8cff-e45197b02e30",
   "metadata": {},
   "outputs": [],
   "source": [
    "from langchain.chat_models import ChatOpenAI\n",
    "from langchain.prompts import ChatPromptTemplate\n",
    "chat = ChatOpenAI(temperature=0.0)\n",
    "template_string = \"\"\"\n",
    "Ändere den durch drei Backticks abgegrenzten Text im folgenden Stil: {style}. \\\n",
    "Text: ```{text}```\n",
    "\"\"\"\n",
    "prompt_template = ChatPromptTemplate.from_template(template_string)"
   ]
  },
  {
   "cell_type": "markdown",
   "id": "5f259463-b581-4226-92d3-2525c52f32e6",
   "metadata": {},
   "source": [
    "Change the values of the variables as you wish:"
   ]
  },
  {
   "cell_type": "code",
   "execution_count": 6,
   "id": "99b84dc3-052f-4ca3-8d46-2b785c96dd30",
   "metadata": {},
   "outputs": [
    {
     "name": "stdout",
     "output_type": "stream",
     "text": [
      "\n",
      "Ändere den durch drei Backticks abgegrenzten Text im folgenden Stil: Deutsch in einfacher Sprache, so dass selbst lernschwache 8-Klässler der Schulart Hauptschule das Thema gut verstehen\n",
      ". Text: ```Die Ableitung einer Funktion f an einer Stelle x gibt die Steigung des Graphen der Funktion an dieser Stelle an. Bezeichnet wird sie zumeist mit f'(x) . Ist f'(x_0)>0 , so steigt  der Graph von f an der Stelle x_0 . Ist f'(x_0)<0 , so fällt der Graph von f an der Stelle x_0 . An den Extremstellen der Funktion und an Terrassenpunkten  gilt: f'(x_0)=0 .   Die Ableitung spielt daher eine wichtige Rolle bei der Berechnung der Extrema und bei der Untersuchung der Monotonie einer Funktion. Funktionen, die an jeder Stelle x der Definitionsmenge eine Ableitung besitzen, nennt man differenzierbar . Das Berechnen der Ableitung nennt man  Differenzieren . Für die Berechnung der Ableitung existieren entsprechende Ableitungsregeln . Definition Die Ableitung an einem Punkt Die Ableitung ist zunächst nur für einen Punkt \\left(x_0\\;\\left|\\;f\\left(x_0\\right)\\right.\\right)  auf dem Graphen einer Funktion f\\left(x\\right) bzw. für eine Stelle x_0 definiert. Sie ist gegeben durch  oder alternativ  Anschaulich erhält man durch den Differenzenquotienten die Steigung der Sekante durch den Punkt \\left(x_0\\;\\left|\\;f\\left(x_0\\right)\\right.\\right) und einen anderen Punkt auf dem Funktionsgraphen. Die Idee bei beiden Definitionen ist, dass man die Tangente durch Sekanten annähert, indem man den x-Wert des zweiten Punktes immer näher an x_0 wählt. Was bedeutet diese Definition anschaulich? Die Bilderfolge veranschaulicht die Bildung des Grenzwerts mit der Definition  \\displaystyle \\lim_{h\\rightarrow0}\\frac{f\\left(x_0+h\\right)-f\\left(x_0\\right)}h. Im Folgenden wird die Ableitung der Funktion f\\left(x\\right) an der Stelle x_0 berechnet. Der Punkt A=(x_{0}|f(x_0)) ist der entsprechende Punkt auf dem roten Funktionsgraphen.  Nun wähle man einen zweiten Punkt B , dessen x-Koordinate um h größer ist als  x_0 , also x_0+h . Dieser Punkt besitzt also die Koordinaten B=(x_0+h|f(x_0+h)) . Durch diese zwei Punkte A und B lässt sich die zugehörige Sekante g bestimmen. Wird nun der Punkt B auf dem Graphen in Richtung von A \"geschoben\" (d.h. die x-Koordinate x_B von B immer weiter an die x-Koordinate x_A von A angenähert, also h immer weiter verringert), so wird die Sekante g im Grenzfall x_B=x_A=x_0 zur Tangente. Die mithilfe des Differenzenquotienten ermittelbare Sekantensteigung wird somit zur Tangentensteigung, die wiederum dem Wert der Ableitung der Funktion f an der Stelle x_0 entspricht. A  und  B  liegen weit auseinander. Die türkise Gerade schneidet gut sichtbar den roten Graphen. Man erhält also eine  Sekante . Die Steigung der Sekante ist mit einem Steigungsdreieck (vgl. Differenzenquotient) \\frac{f\\left(x_0+h\\right)-f\\left(x_0\\right)}h zu bestimmen. Nun wird der Grenzwert gebildet. \\lim_{h\\rightarrow0}  bedeutet, dass der Wert von h immer kleiner wird. Das bedeutet wiederum, dass  x_0 und x_0+h , also A und B immer näher aneinander kommen, bis… … die Differenz h ganz verschwindet, also A=B ist. Die türkise Gerade berührt den roten Graphen an dieser Stelle. Wir bekommen also eine  Tangente . Die Steigung dieser Tangente ist gleich der Ableitung an der Stelle x_0 . Existiert die Ableitung für alle Werte des Definitionsbereichs? Nicht jede Funktion besitzt in jedem Punkt eine Ableitung. Das kann zum Beispiel daran liegen, dass die Funktion an einer Stelle einen Knick besitzt oder unstetig ist. So ist zum Beispiel die Betragsfunktion  f(x) = |x| an der Stelle 0 nicht differenzierbar. Der Artikel „ Differenzierbarkeit “ liefert zu diesem Thema genauere Informationen. Die Ableitung als Funktion Von der Ableitung an einem bestimmten Punkt ist es nur ein kleiner Schritt zur Ableitung auf dem ganzen  Definitionsbereich . Denn alle \"normalen\" Funktionen (die in der Schule behandelt werden) besitzen für alle  x \\in D den gleichen Differenzenquotienten in Abhängigkeit von x . In dem Fall kann man die Ableitungen mithilfe der Ableitungsregeln bestimmen. Wir berechnen die Ableitung der Funktion  f\\left(x\\right)=x^2   und benutzen die Definition  \\lim_{x\\rightarrow x_0}\\frac{f\\left(x\\right)-f\\left(x_0\\right)}{x-x_0} .  Mithilfe der dritten binomischen Formel bekommen wir für die Ableitung  Das heißt, dass egal an welchem Punkt x_0 wir die Ableitung ausrechnen, wir bekommen immer 2x_0 . Höhere Ableitungen Wenn die erste Ableitung nochmal abgeleitet wird, wird das Ergebnis zweite Ableitung genannt. Die Ableitung der zweiten Ableitung heißt dritte Ableitung und so weiter. Zumeist werden für die Kurvendiskussion nur die ersten drei Ableitungen benötigt. Im Bild erkennt man auch wieder, dass die Ableitung die Steigung der Funktion ist: Die Ableitung von f ist negativ bis 1, und danach positiv. Dementsprechend fällt f\\left(x\\right) bis x=1  und steigt danach. Des Weiteren ist f'\\left(x\\right)  eine Gerade mit konstanter Steigung und  f''\\left(x\\right)  ist konstant. Notation Die Ableitung einer Funktion wird mit einem Strich ( ' ) nach der Bezeichnung der Funktion gekennzeichnet. Bei höheren Ableitungen fügt man weitere Striche hinzu. Der Übersichtlichkeit halber verwendet man ab der vierten Ableitung statt der jeweiligen Anzahl an Strichen die entsprechende Zahl hochgestellt und eingeklammert. Funktion f(x) 1. Ableitung f'(x) 2. Ableitung f''(x) n-te Ableitung f^{(n)}(x) In der Physik gibt es auch die Notation mit einem bzw. mehreren Punkten über der Funktionsbezeichnung für die Ableitungen nach der Zeit. x\\Rightarrow\\dot x  x(t)\\Rightarrow\\dot x(t)  \\dot y\\Rightarrow\\ddot y,\\dots Als Alternative zu dem Strich kann man auch Differentiale (Für eine Begriffserklärung:  Wikipedia ) verwenden. f'\\left(x\\right)=\\frac{\\mathrm df}{\\mathrm dx}\\left(x\\right)=\\frac{\\mathrm df\\left(x\\right)}{\\mathrm dx}=\\frac{\\mathrm d}{\\mathrm dx}f\\left(x\\right) Wofür braucht man Ableitungen? Die erste Ableitung gibt die Steigung einer Funktion an. Hat man eine Funktion gegeben, dann kann man aus der Ableitung zum Beispiel ablesen, wann die Funktion am stärksten steigt bzw. gar nicht steigt und kann dadurch Rückschlüsse ziehen, wie der Funktionsgraph aussieht. Diese Methode dient unter anderem der Bestimmung von Extremstellen bzw. Extremwerten . Bildet man die Ableitung der Ableitung, so erhält man die zweite Ableitung, sozusagen die Steigung der Steigung. Die zweite Ableitung ist die Krümmung des Funktionsgraphen.  Die zweite Ableitung ermöglicht z.B. eine Antwort auf die Frage: Wann ist die Steigung konstant? Ableitungen in der Kurvendiskussion Beispiel Bedeutung Ausgangsfunktion f(x)=x^3-6x^2+10x-1 Erste Ableitung f'(x)=3x^2-12x+10 Steigung von f Zweite Ableitung f''(x)=6x-12 Krümmung von f Jeder x-Wert eines Extremums der Funktion ist eine Nullstelle der Ableitung. Jeder x-Wert eines Wendepunktes einer Funktion ist ein x-Wert eines Extremums der Ableitung. Jeder x-Wert eines Wendepunktes einer Funktion ist eine Nullstelle der zweiten Ableitung. Achtung: Die Rückrichtung dieser Aussagen muss nicht richtig sein. Ableitung und Integral Das Integral ist das Gegenstück zur Ableitung. Leitet man eine integrierte Funktion ab, erhält man die ursprüngliche Funktion und ebenso umgekehrt (abgesehen von einer Konstante , die hier noch hinzukommen kann). Dieser Zusammenhang ist die Aussage des Hauptsatzes der Differential- und Integralrechnung (HDI) .```\n",
      "\n"
     ]
    }
   ],
   "source": [
    "jahrgangsstufe: int = 8\n",
    "schulart: str = \"Hauptschule\"\n",
    "\n",
    "style = \"\"\"Deutsch \\\n",
    "in einfacher Sprache, so dass selbst lernschwache %d-Klässler der Schulart %s das Thema gut verstehen\n",
    "\"\"\" % (jahrgangsstufe, schulart)\n",
    "\n",
    "prompt_to_change_article = prompt_template.format_messages(style=style, text=article_text)\n",
    "print(prompt_to_change_article[0].content)"
   ]
  },
  {
   "cell_type": "code",
   "execution_count": 7,
   "id": "feb5c7fe-a460-443e-a975-37f8aa3c8c49",
   "metadata": {},
   "outputs": [
    {
     "name": "stdout",
     "output_type": "stream",
     "text": [
      "Die Ableitung einer Funktion f an einer Stelle x zeigt an, wie steil der Graph der Funktion an dieser Stelle ist. Man schreibt meistens f'(x) dafür. Wenn f'(x_0)>0 ist, steigt der Graph von f an der Stelle x_0. Wenn f'(x_0)<0 ist, fällt der Graph von f an der Stelle x_0. An den Extremstellen der Funktion und an Terrassenpunkten gilt: f'(x_0)=0. Die Ableitung ist wichtig, um die Extrema und die Monotonie einer Funktion zu berechnen. Funktionen, bei denen man für jede Stelle x in der Definitionsmenge eine Ableitung berechnen kann, nennt man differenzierbar. Das Berechnen der Ableitung nennt man Differenzieren. Es gibt Regeln, um die Ableitung zu berechnen. \n",
      "\n",
      "Die Ableitung ist zunächst nur für einen Punkt (x_0|f(x_0)) auf dem Graphen einer Funktion f(x) oder für eine Stelle x_0 definiert. Man kann sie berechnen, indem man den Differenzenquotienten verwendet. Der Differenzenquotient gibt die Steigung der Sekante durch den Punkt (x_0|f(x_0)) und einen anderen Punkt auf dem Funktionsgraphen an. Man kann die Ableitung auch anschaulich erklären: Wenn man den zweiten Punkt immer näher an den ersten Punkt heranführt, wird die Sekante im Grenzfall zur Tangente. Die Steigung der Sekante wird dann zur Steigung der Tangente, die der Ableitung der Funktion f an der Stelle x_0 entspricht. \n",
      "\n",
      "Nicht alle Funktionen haben in jedem Punkt eine Ableitung. Manche Funktionen haben an einer Stelle einen Knick oder sind unstetig. Zum Beispiel ist die Betragsfunktion f(x) = |x| an der Stelle 0 nicht differenzierbar. \n",
      "\n",
      "Die Ableitung einer Funktion kann man auch für den ganzen Definitionsbereich berechnen. Man verwendet dafür die Ableitungsregeln. Zum Beispiel berechnet man die Ableitung der Funktion f(x) = x^2 und benutzt die Definition des Grenzwerts. \n",
      "\n",
      "Wenn man die Ableitung nochmal ableitet, erhält man die zweite Ableitung. Die Ableitung der zweiten Ableitung heißt dritte Ableitung und so weiter. In der Kurvendiskussion braucht man meistens nur die ersten drei Ableitungen. \n",
      "\n",
      "Die Ableitung einer Funktion wird mit einem Strich (') nach der Funktion gekennzeichnet. Bei höheren Ableitungen fügt man weitere Striche hinzu. Man kann auch Differentiale verwenden. \n",
      "\n",
      "Die Ableitung einer Funktion gibt die Steigung der Funktion an. Man kann zum Beispiel aus der Ableitung ablesen, wann die Funktion am stärksten steigt oder gar nicht steigt. Die Ableitung der Ableitung gibt die Krümmung des Funktionsgraphen an. \n",
      "\n",
      "Das Integral ist das Gegenteil der Ableitung. Wenn man eine integrierte Funktion ableitet, erhält man die ursprüngliche Funktion und umgekehrt. Das ist der Hauptsatz der Differential- und Integralrechnung.\n"
     ]
    }
   ],
   "source": [
    "changed_article = chat(prompt_to_change_article)\n",
    "print(changed_article.content)"
   ]
  }
 ],
 "metadata": {
  "kernelspec": {
   "display_name": "Python 3 (ipykernel)",
   "language": "python",
   "name": "python3"
  },
  "language_info": {
   "codemirror_mode": {
    "name": "ipython",
    "version": 3
   },
   "file_extension": ".py",
   "mimetype": "text/x-python",
   "name": "python",
   "nbconvert_exporter": "python",
   "pygments_lexer": "ipython3",
   "version": "3.11.4"
  }
 },
 "nbformat": 4,
 "nbformat_minor": 5
}
