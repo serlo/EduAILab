{
 "cells": [
  {
   "cell_type": "markdown",
   "id": "4040766a-7dbd-4917-bc8a-9b5c530bb939",
   "metadata": {},
   "source": [
    "# Alt text generation for images\n",
    "On serlo.org we have a lot of images without alternative texts that would help visually impaired people using screen readers. \n",
    "Let's have a look at how a machine learning model could help us automatically generating such alternative texts!\n",
    "\n",
    "A popular choice for such tasks seem to be the BLIP 2 models. Two options to try them are:\n",
    "## Use a Hugging Face inference endpoint \n",
    "This means the model runs on a Hugging Face server to which we send API requests. You find the code for that on the [model page](https://huggingface.co/Salesforce/blip-image-captioning-large) (or [base](https://huggingface.co/Salesforce/blip-image-captioning-base)) clicking on the button '🚀 Deploy' and then '⚡ Inference API'. To use it, you have to make a Hugging Face account and [create an access token](https://huggingface.co/settings/tokens).\n",
    "## Run the model locally\n",
    "Download the model from Hugging Face and run it where you are running this notebook, i.e. your computer or Google Colab.\n",
    "Running BLIP 2 seems to work on a normal computer, so we can do that and do not need to get a Hugging Face access token for the inference endpoint. \n",
    "### Function to run the model\n",
    "Now let's get to it and implement a function that takes the image URL and a model as input and outputs the generated alternative text:"
   ]
  },
  {
   "cell_type": "code",
   "execution_count": 1,
   "id": "f302feb6-757e-4d5d-aded-ac9c2b3c8e52",
   "metadata": {},
   "outputs": [
    {
     "name": "stdout",
     "output_type": "stream",
     "text": [
      "Defaulting to user installation because normal site-packages is not writeable\n",
      "Requirement already satisfied: transformers in /home/andreas/.local/lib/python3.11/site-packages (4.31.0)\n",
      "Requirement already satisfied: filelock in /home/andreas/.local/lib/python3.11/site-packages (from transformers) (3.12.2)\n",
      "Requirement already satisfied: huggingface-hub<1.0,>=0.14.1 in /home/andreas/.local/lib/python3.11/site-packages (from transformers) (0.16.4)\n",
      "Requirement already satisfied: numpy>=1.17 in /home/andreas/.local/lib/python3.11/site-packages (from transformers) (1.25.2)\n",
      "Requirement already satisfied: packaging>=20.0 in /usr/lib/python3.11/site-packages (from transformers) (23.0)\n",
      "Requirement already satisfied: pyyaml>=5.1 in /usr/lib64/python3.11/site-packages (from transformers) (6.0)\n",
      "Requirement already satisfied: regex!=2019.12.17 in /usr/lib64/python3.11/site-packages (from transformers) (2022.10.31)\n",
      "Requirement already satisfied: requests in /usr/lib/python3.11/site-packages (from transformers) (2.28.2)\n",
      "Requirement already satisfied: tokenizers!=0.11.3,<0.14,>=0.11.1 in /home/andreas/.local/lib/python3.11/site-packages (from transformers) (0.13.3)\n",
      "Requirement already satisfied: safetensors>=0.3.1 in /home/andreas/.local/lib/python3.11/site-packages (from transformers) (0.3.2)\n",
      "Requirement already satisfied: tqdm>=4.27 in /home/andreas/.local/lib/python3.11/site-packages (from transformers) (4.65.0)\n",
      "Requirement already satisfied: fsspec in /home/andreas/.local/lib/python3.11/site-packages (from huggingface-hub<1.0,>=0.14.1->transformers) (2023.6.0)\n",
      "Requirement already satisfied: typing-extensions>=3.7.4.3 in /home/andreas/.local/lib/python3.11/site-packages (from huggingface-hub<1.0,>=0.14.1->transformers) (4.7.1)\n",
      "Requirement already satisfied: charset-normalizer<4,>=2 in /usr/lib/python3.11/site-packages (from requests->transformers) (3.1.0)\n",
      "Requirement already satisfied: idna<4,>=2.5 in /usr/lib/python3.11/site-packages (from requests->transformers) (3.4)\n",
      "Requirement already satisfied: urllib3<1.27,>=1.21.1 in /usr/lib/python3.11/site-packages (from requests->transformers) (1.26.16)\n",
      "Defaulting to user installation because normal site-packages is not writeable\n",
      "Requirement already satisfied: torch in /home/andreas/.local/lib/python3.11/site-packages (2.0.1)\n",
      "Requirement already satisfied: filelock in /home/andreas/.local/lib/python3.11/site-packages (from torch) (3.12.2)\n",
      "Requirement already satisfied: typing-extensions in /home/andreas/.local/lib/python3.11/site-packages (from torch) (4.7.1)\n",
      "Requirement already satisfied: sympy in /home/andreas/.local/lib/python3.11/site-packages (from torch) (1.12)\n",
      "Requirement already satisfied: networkx in /home/andreas/.local/lib/python3.11/site-packages (from torch) (3.1)\n",
      "Requirement already satisfied: jinja2 in /home/andreas/.local/lib/python3.11/site-packages (from torch) (3.1.2)\n",
      "Requirement already satisfied: nvidia-cuda-nvrtc-cu11==11.7.99 in /home/andreas/.local/lib/python3.11/site-packages (from torch) (11.7.99)\n",
      "Requirement already satisfied: nvidia-cuda-runtime-cu11==11.7.99 in /home/andreas/.local/lib/python3.11/site-packages (from torch) (11.7.99)\n",
      "Requirement already satisfied: nvidia-cuda-cupti-cu11==11.7.101 in /home/andreas/.local/lib/python3.11/site-packages (from torch) (11.7.101)\n",
      "Requirement already satisfied: nvidia-cudnn-cu11==8.5.0.96 in /home/andreas/.local/lib/python3.11/site-packages (from torch) (8.5.0.96)\n",
      "Requirement already satisfied: nvidia-cublas-cu11==11.10.3.66 in /home/andreas/.local/lib/python3.11/site-packages (from torch) (11.10.3.66)\n",
      "Requirement already satisfied: nvidia-cufft-cu11==10.9.0.58 in /home/andreas/.local/lib/python3.11/site-packages (from torch) (10.9.0.58)\n",
      "Requirement already satisfied: nvidia-curand-cu11==10.2.10.91 in /home/andreas/.local/lib/python3.11/site-packages (from torch) (10.2.10.91)\n",
      "Requirement already satisfied: nvidia-cusolver-cu11==11.4.0.1 in /home/andreas/.local/lib/python3.11/site-packages (from torch) (11.4.0.1)\n",
      "Requirement already satisfied: nvidia-cusparse-cu11==11.7.4.91 in /home/andreas/.local/lib/python3.11/site-packages (from torch) (11.7.4.91)\n",
      "Requirement already satisfied: nvidia-nccl-cu11==2.14.3 in /home/andreas/.local/lib/python3.11/site-packages (from torch) (2.14.3)\n",
      "Requirement already satisfied: nvidia-nvtx-cu11==11.7.91 in /home/andreas/.local/lib/python3.11/site-packages (from torch) (11.7.91)\n",
      "Requirement already satisfied: triton==2.0.0 in /home/andreas/.local/lib/python3.11/site-packages (from torch) (2.0.0)\n",
      "Requirement already satisfied: setuptools in /usr/lib/python3.11/site-packages (from nvidia-cublas-cu11==11.10.3.66->torch) (65.5.1)\n",
      "Requirement already satisfied: wheel in /home/andreas/.local/lib/python3.11/site-packages (from nvidia-cublas-cu11==11.10.3.66->torch) (0.41.1)\n",
      "Requirement already satisfied: cmake in /home/andreas/.local/lib/python3.11/site-packages (from triton==2.0.0->torch) (3.27.1)\n",
      "Requirement already satisfied: lit in /home/andreas/.local/lib/python3.11/site-packages (from triton==2.0.0->torch) (16.0.6)\n",
      "Requirement already satisfied: MarkupSafe>=2.0 in /usr/lib64/python3.11/site-packages (from jinja2->torch) (2.1.2)\n",
      "Requirement already satisfied: mpmath>=0.19 in /home/andreas/.local/lib/python3.11/site-packages (from sympy->torch) (1.3.0)\n"
     ]
    }
   ],
   "source": [
    "!pip install transformers\n",
    "!pip install torch"
   ]
  },
  {
   "cell_type": "code",
   "execution_count": 2,
   "id": "948d32d4-2e78-4327-aefe-ab207429a579",
   "metadata": {},
   "outputs": [],
   "source": [
    "from transformers import pipeline\n",
    "\n",
    "def generate_alt_text(image_url: str, model: str) -> str:\n",
    "    output: list[dict[str, str]] = pipeline(\"image-to-text\",model=model)(image_url)\n",
    "    return output[0]['generated_text']"
   ]
  },
  {
   "cell_type": "markdown",
   "id": "14b41210-037e-464e-b529-8c10572432ad",
   "metadata": {},
   "source": [
    "### Comparing base and large model\n",
    "\n",
    "Set an image URL from serlo.org to test and use the above defined function to see what alternative text the two models generate:"
   ]
  },
  {
   "cell_type": "code",
   "execution_count": 3,
   "id": "b60b6191-c45a-4800-a726-0ca33eedbb51",
   "metadata": {},
   "outputs": [
    {
     "data": {
      "text/html": [
       "<img src=\"https://assets.serlo.org/c48ee040-0aaa-11ee-95fa-c71a5f058ba5/radiusunddurchmesserolaf.jpg\"/>"
      ],
      "text/plain": [
       "<IPython.core.display.Image object>"
      ]
     },
     "metadata": {},
     "output_type": "display_data"
    },
    {
     "name": "stderr",
     "output_type": "stream",
     "text": [
      "/home/andreas/.local/lib/python3.11/site-packages/transformers/generation/utils.py:1369: UserWarning: Using `max_length`'s default (20) to control the generation length. This behaviour is deprecated and will be removed from the config in v5 of Transformers -- we recommend using `max_new_tokens` to control the maximum length of the generation.\n",
      "  warnings.warn(\n"
     ]
    },
    {
     "name": "stdout",
     "output_type": "stream",
     "text": [
      "generated alt text with blip-image-captioning-base:  a circle with a line of radius and a line of radius\n",
      "generated alt text with blip-image-captioning-large: a diagram of a circle with a line that is in the middle\n"
     ]
    }
   ],
   "source": [
    "import IPython.display\n",
    "\n",
    "image_url: str = \"https://assets.serlo.org/c48ee040-0aaa-11ee-95fa-c71a5f058ba5/radiusunddurchmesserolaf.jpg\"\n",
    "display(IPython.display.Image(url=image_url))\n",
    "\n",
    "print(\"generated alt text with blip-image-captioning-base:  \" + generate_alt_text(image_url, \"Salesforce/blip-image-captioning-base\"))\n",
    "print(\"generated alt text with blip-image-captioning-large: \" + generate_alt_text(image_url, \"Salesforce/blip-image-captioning-large\"))"
   ]
  }
 ],
 "metadata": {
  "kernelspec": {
   "display_name": "Python 3 (ipykernel)",
   "language": "python",
   "name": "python3"
  },
  "language_info": {
   "codemirror_mode": {
    "name": "ipython",
    "version": 3
   },
   "file_extension": ".py",
   "mimetype": "text/x-python",
   "name": "python",
   "nbconvert_exporter": "python",
   "pygments_lexer": "ipython3",
   "version": "3.11.4"
  }
 },
 "nbformat": 4,
 "nbformat_minor": 5
}
