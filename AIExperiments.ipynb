{
 "cells": [
  {
   "cell_type": "markdown",
   "id": "dd1df477",
   "metadata": {},
   "source": [
    "# Prototyping:\n",
    "1. Generate new answers for existing exercises\n",
    "2. Content scaffolding (generate first article draft)\n",
    "3. Simplify language and provide different difficulty versions for students\n",
    "\n",
    "## Task 3\n",
    "* [Experiment with prompting](https://docs.google.com/presentation/d/1wImIku229N92JU-yXZa1NO9lAqwtM5_jY4mmLI-fl_U/edit#slide=id.g256f714229b_1_116)\n",
    "  * Find suitable prompts (x)\n",
    "  * Create examples by hand to improve prompts \n",
    "\n",
    "* Connect to database (x)\n",
    "* Extract content -> only text content (x) => Improve output\n",
    "* Send content to ChatGPT\n"
   ]
  },
  {
   "cell_type": "code",
   "execution_count": 13,
   "id": "2cde32ec",
   "metadata": {},
   "outputs": [],
   "source": [
    "import os\n",
    "import openai\n",
    "import dotenv"
   ]
  },
  {
   "cell_type": "code",
   "execution_count": 15,
   "id": "03c5e6a6",
   "metadata": {},
   "outputs": [],
   "source": [
    "env_file = 'OPENAI.env'\n",
    "dotenv.load_dotenv(env_file, override=True)\n",
    "openai.organization = os.environ.get(\"OPENAI_ORGANIZATION_ID\")\n",
    "openai.api_key = os.environ.get(\"OPENAI_API_KEY\")"
   ]
  },
  {
   "cell_type": "code",
   "execution_count": 4,
   "id": "4786b98a",
   "metadata": {},
   "outputs": [
    {
     "data": {
      "text/plain": [
       "[{'currentRevisionId': 264292,\n",
       "  'entityId': 1795,\n",
       "  'type': 'article',\n",
       "  'title': 'Ableitung',\n",
       "  'changes': 'Rechtschreibung korrigiert',\n",
       "  'content': '{\"plugin\":\"article\",\"state\":{\"introduction\":{\"plugin\":\"articleIntroduction\",\"state\":{\"explanation\":{\"plugin\":\"text\",\"state\":[{\"type\":\"p\",\"children\":[{\"text\":\"Die \"},{\"text\":\"Ableitung\",\"strong\":true},{\"text\":\" einer Funktion \"},{\"type\":\"math\",\"src\":\"f\",\"inline\":true,\"children\":[{\"text\":\"f\"}]},{\"text\":\" an einer Stelle \"},{\"type\":\"math\",\"src\":\"x\",\"inline\":true,\"children\":[{\"text\":\"x\"}]},{\"text\":\" gibt die \"},{\"text\":\"Steigung des Graphen der Funktion\",\"strong\":true},{\"text\":\" an dieser Stelle an.\"}]},{\"type\":\"p\",\"children\":[{\"text\":\"Bezeichnet wird sie zumeist mit \"},{\"type\":\"math\",\"src\":\"f\\'(x)\",\"inline\":true,\"children\":[{\"text\":\"f\\'(x)\"}]},{\"text\":\".\"}]}]},\"multimedia\":{\"plugin\":\"image\",\"state\":{\"src\":\"https://assets.serlo.org/6227206de64da_69fce42ecb2dedad112be172f4e98b90d71456b5.svg\",\"caption\":{\"plugin\":\"text\",\"state\":[{\"type\":\"p\",\"children\":[{}]}]}}},\"illustrating\":true,\"width\":50}},\"content\":{\"plugin\":\"rows\",\"state\":[{\"plugin\":\"multimedia\",\"state\":{\"explanation\":{\"plugin\":\"rows\",\"state\":[{\"plugin\":\"text\",\"state\":[{\"type\":\"unordered-list\",\"children\":[{\"type\":\"list-item\",\"children\":[{\"type\":\"list-item-child\",\"children\":[{\"text\":\"Ist \"},{\"type\":\"math\",\"src\":\"f\\'(x_0)>0\",\"inline\":true,\"children\":[{\"text\":\"f\\'(x_0)>0\"}]},{\"text\":\", so \"},{\"text\":\"steigt\",\"strong\":true},{\"text\":\"Â\\xa0der Graph von \"},{\"type\":\"math\",\"src\":\"f\",\"inline\":true,\"children\":[{\"text\":\"f\"}]},{\"text\":\" an der Stelle \"},{\"type\":\"math\",\"src\":\"x_0\",\"inline\":true,\"children\":[{\"text\":\"x_0\"}]},{\"text\":\".\"}]}]},{\"type\":\"list-item\",\"children\":[{\"type\":\"list-item-child\",\"children\":[{\"text\":\"Ist \"},{\"type\":\"math\",\"src\":\"f\\'(x_0)<0\",\"inline\":true,\"children\":[{\"text\":\"f\\'(x_0)<0\"}]},{\"text\":\", so \"},{\"text\":\"fÃ¤llt\",\"strong\":true},{\"text\":\" der Graph von \"},{\"type\":\"math\",\"src\":\"f\",\"inline\":true,\"children\":[{\"text\":\"f\"}]},{\"text\":\" an der Stelle \"},{\"type\":\"math\",\"src\":\"x_0\",\"inline\":true,\"children\":[{\"text\":\"x_0\"}]},{\"text\":\".\"}]}]}]},{\"type\":\"p\",\"children\":[{\"text\":\"An den \"},{\"type\":\"a\",\"href\":\"/1579\",\"children\":[{\"text\":\"Extremstellen\"}]},{\"text\":\" der Funktion und an \"},{\"type\":\"a\",\"href\":\"/1653\",\"children\":[{\"text\":\"Terrassenpunkten \"}]},{\"text\":\" gilt:\"}]},{\"type\":\"p\",\"children\":[{\"text\":\"\"},{\"type\":\"math\",\"src\":\"f\\'(x_0)=0\",\"inline\":true,\"children\":[{\"text\":\"f\\'(x_0)=0\"}]},{\"text\":\".\"}]},{\"type\":\"p\",\"children\":[{\"text\":\"Â\\xa0\"}]},{\"type\":\"p\",\"children\":[{\"text\":\"Die Ableitung spielt daher eine wichtige Rolle bei der \"},{\"type\":\"a\",\"href\":\"/1845\",\"children\":[{\"text\":\"Berechnung der Extrema\"}]},{\"text\":\" und bei der \"},{\"type\":\"a\",\"href\":\"/1701\",\"children\":[{\"text\":\"Untersuchung der Monotonie\"}]},{\"text\":\" einer Funktion.\"}]}]}]},\"multimedia\":{\"plugin\":\"image\",\"state\":{\"src\":\"https://assets.serlo.org/legacy/9418_oFfNJ7Gbuk.png\",\"alt\":\"Geogebra File: https://assets.serlo.org/legacy/9417_bPUkYv5Nan.xml\",\"caption\":{\"plugin\":\"text\",\"state\":[{\"type\":\"p\",\"children\":[{}]}]}}},\"illustrating\":true,\"width\":50}},{\"plugin\":\"text\",\"state\":[{\"type\":\"p\",\"children\":[{\"text\":\"Funktionen, die an jeder Stelle \"},{\"type\":\"math\",\"src\":\"x\",\"inline\":true,\"children\":[{\"text\":\"x\"}]},{\"text\":\" der Definitionsmenge eine Ableitung besitzen, nennt man \"},{\"type\":\"a\",\"href\":\"/1651\",\"children\":[{\"text\":\"differenzierbar\"}]},{\"text\":\". Das Berechnen der Ableitung nennt manÂ\\xa0\"},{\"text\":\"Differenzieren\",\"strong\":true},{\"text\":\".\"}]},{\"type\":\"p\",\"children\":[{\"text\":\"FÃ¼r die Berechnung der Ableitung existieren entsprechende \"},{\"type\":\"a\",\"href\":\"/2215\",\"children\":[{\"text\":\"Ableitungsregeln\"}]},{\"text\":\".\"}]}]},{\"plugin\":\"text\",\"state\":[{\"type\":\"h\",\"level\":2,\"children\":[{\"text\":\"Definition\"}]}]},{\"plugin\":\"text\",\"state\":[{\"type\":\"h\",\"level\":3,\"children\":[{\"text\":\"Die Ableitung an einem Punkt\"}]}]},{\"plugin\":\"text\",\"state\":[{\"type\":\"p\",\"children\":[{\"text\":\"Die Ableitung ist zunÃ¤chst nur fÃ¼r einen Punkt \"},{\"type\":\"math\",\"src\":\"\\\\\\\\left(x_0\\\\\\\\;\\\\\\\\left|\\\\\\\\;f\\\\\\\\left(x_0\\\\\\\\right)\\\\\\\\right.\\\\\\\\right)\",\"inline\":true,\"children\":[{\"text\":\"\\\\\\\\left(x_0\\\\\\\\;\\\\\\\\left|\\\\\\\\;f\\\\\\\\left(x_0\\\\\\\\right)\\\\\\\\right.\\\\\\\\right)\"}]},{\"text\":\" Â\\xa0auf dem Graphen einer Funktion \"},{\"type\":\"math\",\"src\":\"f\\\\\\\\left(x\\\\\\\\right)\",\"inline\":true,\"children\":[{\"text\":\"f\\\\\\\\left(x\\\\\\\\right)\"}]},{\"text\":\" bzw. fÃ¼r eine Stelle \"},{\"type\":\"math\",\"src\":\"x_0\",\"inline\":true,\"children\":[{\"text\":\"x_0\"}]},{\"text\":\" definiert. Sie ist gegeben durch\"}]},{\"type\":\"math\",\"src\":\"\\\\\\\\displaystyle \\\\\\\\lim_{x\\\\\\\\to x_0}\\\\\\\\frac{f(x)-f(x_0)}{x-x_0}\",\"inline\":false,\"children\":[{\"text\":\"\"}]},{\"type\":\"p\",\"children\":[{\"text\":\" oder alternativ \"}]},{\"type\":\"math\",\"src\":\"\\\\\\\\displaystyle \\\\\\\\lim_{h\\\\\\\\to 0}\\\\\\\\frac{f(x_0+h)-f(x_0)}{h}\",\"inline\":false,\"children\":[{\"text\":\"\"}]},{\"type\":\"p\",\"children\":[{\"text\":\"\"}]},{\"type\":\"p\",\"children\":[{\"text\":\"Anschaulich erhÃ¤lt man durch den \"},{\"type\":\"a\",\"href\":\"/1669\",\"children\":[{\"text\":\"Differenzenquotienten\"}]},{\"text\":\" die Steigung der \"},{\"type\":\"a\",\"href\":\"/1637\",\"children\":[{\"text\":\"Sekante\"}]},{\"text\":\" durch den Punkt \"},{\"type\":\"math\",\"src\":\"\\\\\\\\left(x_0\\\\\\\\;\\\\\\\\left|\\\\\\\\;f\\\\\\\\left(x_0\\\\\\\\right)\\\\\\\\right.\\\\\\\\right)\",\"inline\":true,\"children\":[{\"text\":\"\\\\\\\\left(x_0\\\\\\\\;\\\\\\\\left|\\\\\\\\;f\\\\\\\\left(x_0\\\\\\\\right)\\\\\\\\right.\\\\\\\\right)\"}]},{\"text\":\" und einen anderen Punkt auf dem Funktionsgraphen.Â\\xa0Die Idee bei beiden Definitionen ist, dass man die Tangente durch Sekanten annÃ¤hert, indem man den x-Wert des zweiten Punktes immer nÃ¤her an \"},{\"type\":\"math\",\"src\":\"x_0\",\"inline\":true,\"children\":[{\"text\":\"x_0\"}]},{\"text\":\" wÃ¤hlt.\"}]}]},{\"plugin\":\"text\",\"state\":[{\"type\":\"h\",\"level\":3,\"children\":[{\"text\":\"Was bedeutet diese Definition anschaulich?\"}]}]},{\"plugin\":\"text\",\"state\":[{\"type\":\"p\",\"children\":[{\"text\":\"Die Bilderfolge veranschaulicht die Bildung des Grenzwerts mit der DefinitionÂ\\xa0 \"}]},{\"type\":\"math\",\"src\":\"\\\\\\\\displaystyle \\\\\\\\lim_{h\\\\\\\\rightarrow0}\\\\\\\\frac{f\\\\\\\\left(x_0+h\\\\\\\\right)-f\\\\\\\\left(x_0\\\\\\\\right)}h.\",\"inline\":false,\"children\":[{\"text\":\"\\\\\\\\displaystyle \\\\\\\\lim_{h\\\\\\\\rightarrow0}\\\\\\\\frac{f\\\\\\\\left(x_0+h\\\\\\\\right)-f\\\\\\\\left(x_0\\\\\\\\right)}h.\"}]}]},{\"plugin\":\"text\",\"state\":[{\"type\":\"p\",\"children\":[{\"text\":\"Im Folgenden wird die Ableitung der Funktion \"},{\"type\":\"math\",\"src\":\"f\\\\\\\\left(x\\\\\\\\right)\",\"inline\":true,\"children\":[{\"text\":\"f\\\\\\\\left(x\\\\\\\\right)\"}]},{\"text\":\" an der Stelle \"},{\"type\":\"math\",\"src\":\"x_0\",\"inline\":true,\"children\":[{\"text\":\"x_0\"}]},{\"text\":\" berechnet. Der Punkt \"},{\"type\":\"math\",\"src\":\"A(x_0|f(x_0))\",\"inline\":true,\"children\":[{\"text\":\"A=(x_{0}|f(x_0))\"}]},{\"text\":\" ist der entsprechende Punkt auf dem roten Funktionsgraphen. \"}]},{\"type\":\"p\",\"children\":[{\"text\":\"\"}]},{\"type\":\"p\",\"children\":[{\"text\":\"Nun wÃ¤hle man einen zweiten Punkt \"},{\"type\":\"math\",\"src\":\"B\",\"inline\":true,\"children\":[{\"text\":\"B\"}]},{\"text\":\", dessen x-Koordinate um \"},{\"type\":\"math\",\"src\":\"h\",\"inline\":true,\"children\":[{\"text\":\"h\"}]},{\"text\":\" grÃ¶Ã\\x9fer ist als  \"},{\"type\":\"math\",\"src\":\"x_0\",\"inline\":true,\"children\":[{\"text\":\"x_0\"}]},{\"text\":\", also \"},{\"type\":\"math\",\"src\":\"x_0+h\",\"inline\":true,\"children\":[{\"text\":\"x_0+h\"}]},{\"text\":\". Dieser Punkt besitzt also die Koordinaten \"},{\"type\":\"math\",\"src\":\"B(x_0+h|f(x_0+h))\",\"inline\":true,\"children\":[{\"text\":\"B=(x_0+h|f(x_0+h))\"}]},{\"text\":\". Durch diese zwei Punkte \"},{\"type\":\"math\",\"src\":\"A\",\"inline\":true,\"children\":[{\"text\":\"A\"}]},{\"text\":\" und \"},{\"type\":\"math\",\"src\":\"B\",\"inline\":true,\"children\":[{\"text\":\"B\"}]},{\"text\":\" lÃ¤sst sich die zugehÃ¶rige Sekante \"},{\"type\":\"math\",\"src\":\"g\",\"inline\":true,\"children\":[{\"text\":\"g\"}]},{\"text\":\" bestimmen.\"}]},{\"type\":\"p\",\"children\":[{\"text\":\"\"}]},{\"type\":\"p\",\"children\":[{\"text\":\"Wird nun der Punkt \"},{\"type\":\"math\",\"src\":\"B\",\"inline\":true,\"children\":[{\"text\":\"B\"}]},{\"text\":\" auf dem Graphen in Richtung von \"},{\"type\":\"math\",\"src\":\"A\",\"inline\":true,\"children\":[{\"text\":\"A\"}]},{\"text\":\" \\\\\"geschoben\\\\\" (d.h. die x-Koordinate \"},{\"type\":\"math\",\"src\":\"x_B\",\"inline\":true,\"children\":[{\"text\":\"x_B\"}]},{\"text\":\" von \"},{\"type\":\"math\",\"src\":\"B\",\"inline\":true,\"children\":[{\"text\":\"B\"}]},{\"text\":\" immer weiter an die x-Koordinate \"},{\"type\":\"math\",\"src\":\"x_A\",\"inline\":true,\"children\":[{\"text\":\"x_A\"}]},{\"text\":\" von \"},{\"type\":\"math\",\"src\":\"A\",\"inline\":true,\"children\":[{\"text\":\"A\"}]},{\"text\":\" angenÃ¤hert, also \"},{\"type\":\"math\",\"src\":\"h\",\"inline\":true,\"children\":[{\"text\":\"h\"}]},{\"text\":\" immer weiter verringert), so wird die Sekante \"},{\"type\":\"math\",\"src\":\"g\",\"inline\":true,\"children\":[{\"text\":\"g\"}]},{\"text\":\" im Grenzfall \"},{\"type\":\"math\",\"src\":\"x_B=x_A=x_0\",\"inline\":true,\"children\":[{\"text\":\"x_B=x_A=x_0\"}]},{\"text\":\" zur Tangente. Die mithilfe des Differenzenquotienten ermittelbare Sekantensteigung wird somit zur Tangentensteigung, die wiederum dem Wert der Ableitung der Funktion \"},{\"type\":\"math\",\"src\":\"f\",\"inline\":true,\"children\":[{\"text\":\"f\"}]},{\"text\":\" an der Stelle \"},{\"type\":\"math\",\"src\":\"x_0\",\"inline\":true,\"children\":[{\"text\":\"x_0\"}]},{\"text\":\" entspricht.\"}]}]},{\"plugin\":\"rows\",\"state\":[{\"plugin\":\"image\",\"state\":{\"src\":\"https://assets.serlo.org/legacy/8694_0mTBbYAiIz.png\",\"alt\":\"Geogebra File: https://assets.serlo.org/legacy/8693_RId1nMcPGv.xml\",\"caption\":{\"plugin\":\"text\",\"state\":[{\"type\":\"p\",\"children\":[{}]}]}}},{\"plugin\":\"text\",\"state\":[{\"type\":\"p\",\"children\":[{\"text\":\"\"},{\"type\":\"math\",\"src\":\"A\",\"inline\":true,\"children\":[{\"text\":\"A\"}]},{\"text\":\"Â\\xa0undÂ\\xa0\"},{\"type\":\"math\",\"src\":\"B\",\"inline\":true,\"children\":[{\"text\":\"B\"}]},{\"text\":\"Â\\xa0liegen weit auseinander. Die tÃ¼rkise GeradeÂ\\xa0schneidet gut sichtbar den roten Graphen. Man erhÃ¤lt also eineÂ\\xa0\"},{\"text\":\"Sekante\",\"strong\":true},{\"text\":\".\"}]},{\"type\":\"p\",\"children\":[{\"text\":\"Die Steigung der Sekante ist mit einem \"},{\"type\":\"a\",\"href\":\"/1785\",\"children\":[{\"text\":\"Steigungsdreieck\"}]},{\"text\":\" (vgl. Differenzenquotient) \"},{\"type\":\"math\",\"src\":\"\\\\\\\\frac{f\\\\\\\\left(x_0+h\\\\\\\\right)-f\\\\\\\\left(x_0\\\\\\\\right)}h\",\"inline\":true,\"children\":[{\"text\":\"\\\\\\\\frac{f\\\\\\\\left(x_0+h\\\\\\\\right)-f\\\\\\\\left(x_0\\\\\\\\right)}h\"}]},{\"text\":\" zu bestimmen.\"}]}]},{\"plugin\":\"image\",\"state\":{\"src\":\"https://assets.serlo.org/legacy/8696_swY9TrmWnv.png\",\"alt\":\"Geogebra File: https://assets.serlo.org/legacy/8695_AZvQqEN9tB.xml\",\"caption\":{\"plugin\":\"text\",\"state\":[{\"type\":\"p\",\"children\":[{}]}]}}},{\"plugin\":\"text\",\"state\":[{\"type\":\"p\",\"children\":[{\"text\":\"Nun wird der Grenzwert gebildet.\"}]},{\"type\":\"p\",\"children\":[{\"text\":\"\"},{\"type\":\"math\",\"src\":\"\\\\\\\\lim_{h\\\\\\\\rightarrow0}\",\"inline\":true,\"children\":[{\"text\":\"\\\\\\\\lim_{h\\\\\\\\rightarrow0}\"}]},{\"text\":\" Â\\xa0bedeutet, dass der Wert von \"},{\"type\":\"math\",\"src\":\"h\",\"inline\":true,\"children\":[{\"text\":\"h\"}]},{\"text\":\" immer kleiner wird. Das bedeutet wiederum, dassÂ\\xa0\"},{\"type\":\"math\",\"src\":\"x_0\",\"inline\":true,\"children\":[{\"text\":\"x_0\"}]},{\"text\":\" und \"},{\"type\":\"math\",\"src\":\"x_0+h\",\"inline\":true,\"children\":[{\"text\":\"x_0+h\"}]},{\"text\":\", also \"},{\"type\":\"math\",\"src\":\"A\",\"inline\":true,\"children\":[{\"text\":\"A\"}]},{\"text\":\" und \"},{\"type\":\"math\",\"src\":\"B\",\"inline\":true,\"children\":[{\"text\":\"B\"}]},{\"text\":\" immer nÃ¤her aneinander kommen, bisâ\\x80¦\"}]}]},{\"plugin\":\"image\",\"state\":{\"src\":\"https://assets.serlo.org/legacy/8548_xxCl201OFs.png\",\"alt\":\"Geogebra File: https://assets.serlo.org/legacy/8547_RjKVw3SSWy.xml\",\"caption\":{\"plugin\":\"text\",\"state\":[{\"type\":\"p\",\"children\":[{}]}]}}}]},{\"plugin\":\"rows\",\"state\":[{\"plugin\":\"text\",\"state\":[{\"type\":\"p\",\"children\":[{\"text\":\"â\\x80¦ die Differenz \"},{\"type\":\"math\",\"src\":\"h\",\"inline\":true,\"children\":[{\"text\":\"h\"}]},{\"text\":\" ganz verschwindet, also \"},{\"type\":\"math\",\"src\":\"A=B\",\"inline\":true,\"children\":[{\"text\":\"A=B\"}]},{\"text\":\" ist. Die tÃ¼rkise Gerade berÃ¼hrt den roten Graphen an dieser Stelle. Wir bekommen also eineÂ\\xa0\"},{\"text\":\"Tangente\",\"strong\":true},{\"text\":\".\"}]},{\"type\":\"p\",\"children\":[{\"text\":\"Die Steigung dieser Tangente ist gleich der Ableitung an der Stelle \"},{\"type\":\"math\",\"src\":\"x_0\",\"inline\":true,\"children\":[{\"text\":\"x_0\"}]},{\"text\":\".\"}]}]}]},{\"plugin\":\"text\",\"state\":[{\"type\":\"h\",\"level\":3,\"children\":[{\"text\":\"Existiert die Ableitung fÃ¼r alle Werte des Definitionsbereichs?\"}]}]},{\"plugin\":\"rows\",\"state\":[{\"plugin\":\"text\",\"state\":[{\"type\":\"p\",\"children\":[{\"text\":\"Nicht jede Funktion besitzt in jedem Punkt eine Ableitung. Das kann zum Beispiel daran liegen, dass die Funktion an einer Stelle einen Knick besitzt oder unstetig ist. So ist zum Beispiel die \"},{\"type\":\"a\",\"href\":\"/1643\",\"children\":[{\"text\":\"Betragsfunktion\"}]},{\"text\":\" \"},{\"type\":\"math\",\"src\":\"f(x) = |x|\",\"inline\":true,\"children\":[{\"text\":\"f(x) = |x|\"}]},{\"text\":\" an der Stelle 0 nicht differenzierbar. Der Artikel â\\x80\\x9e\"},{\"type\":\"a\",\"href\":\"/1651\",\"children\":[{\"text\":\"Differenzierbarkeit\"}]},{\"text\":\"â\\x80\\x9c liefert zu diesem Thema genauere Informationen.\"}]}]},{\"plugin\":\"image\",\"state\":{\"src\":\"https://assets.serlo.org/legacy/9420_H8qhiwfidb.png\",\"alt\":\"Geogebra File: https://assets.serlo.org/legacy/9419_B6vJFuoD8R.xml\",\"caption\":{\"plugin\":\"text\",\"state\":[{\"type\":\"p\",\"children\":[{}]}]}}},{\"plugin\":\"image\",\"state\":{\"src\":\"https://assets.serlo.org/legacy/9424_TsLMwAuNJ8.png\",\"alt\":\"Geogebra File: https://assets.serlo.org/legacy/9423_CicEBpXn1v.xml\",\"caption\":{\"plugin\":\"text\",\"state\":[{\"type\":\"p\",\"children\":[{}]}]}}}]},{\"plugin\":\"text\",\"state\":[{\"type\":\"h\",\"level\":3,\"children\":[{\"text\":\"Die Ableitung als Funktion\"}]}]},{\"plugin\":\"text\",\"state\":[{\"type\":\"p\",\"children\":[{\"text\":\"Von der Ableitung an einem bestimmten Punkt ist es nur ein kleiner Schritt zur Ableitung auf dem ganzen  \"},{\"type\":\"a\",\"href\":\"/1575\",\"children\":[{\"text\":\"Definitionsbereich\"}]},{\"text\":\". Denn alle \\\\\"normalen\\\\\" Funktionen (die in der Schule behandelt werden) besitzen fÃ¼r alleÂ\\xa0 \"},{\"type\":\"math\",\"src\":\"x \\\\\\\\in D\",\"inline\":true,\"children\":[{\"text\":\"x \\\\\\\\in D\"}]},{\"text\":\" den \"},{\"text\":\"gleichen Differenzenquotienten\",\"strong\":true},{\"text\":\" in AbhÃ¤ngigkeit von \"},{\"type\":\"math\",\"src\":\"x\",\"inline\":true,\"children\":[{\"text\":\"x\"}]},{\"text\":\".Â\\xa0In dem Fall kann man die Ableitungen mithilfe der \"},{\"type\":\"a\",\"href\":\"/2215\",\"children\":[{\"text\":\"Ableitungsregeln\"}]},{\"text\":\" bestimmen.\"}]}]},{\"plugin\":\"spoiler\",\"state\":{\"title\":\"Beispiel\",\"content\":{\"plugin\":\"rows\",\"state\":[{\"plugin\":\"text\",\"state\":[{\"type\":\"p\",\"children\":[{\"text\":\"Wir berechnen die Ableitung der FunktionÂ\\xa0 \"},{\"type\":\"math\",\"src\":\"f\\\\\\\\left(x\\\\\\\\right)=x^2\",\"inline\":true,\"children\":[{\"text\":\"f\\\\\\\\left(x\\\\\\\\right)=x^2\"}]},{\"text\":\" Â\\xa0 und benutzen die DefinitionÂ\\xa0 \"},{\"type\":\"math\",\"src\":\"\\\\\\\\lim_{x\\\\\\\\rightarrow x_0}\\\\\\\\frac{f\\\\\\\\left(x\\\\\\\\right)-f\\\\\\\\left(x_0\\\\\\\\right)}{x-x_0}\",\"inline\":true,\"children\":[{\"text\":\"\\\\\\\\lim_{x\\\\\\\\rightarrow x_0}\\\\\\\\frac{f\\\\\\\\left(x\\\\\\\\right)-f\\\\\\\\left(x_0\\\\\\\\right)}{x-x_0}\"}]},{\"text\":\". Â\\xa0Mithilfe der dritten \"},{\"type\":\"a\",\"href\":\"/1499\",\"children\":[{\"text\":\"binomischen Formel\"}]},{\"text\":\" bekommen wir fÃ¼r die Ableitung \"}]},{\"type\":\"math\",\"src\":\"\\\\\\\\lim_{x\\\\\\\\rightarrow x_0}\\\\\\\\frac{x^2-x_0^2}{x-x_0}=\\\\\\\\lim_{x\\\\\\\\rightarrow x_0}\\\\\\\\frac{\\\\\\\\left(x+x_0\\\\\\\\right)\\\\\\\\left(x-x_0\\\\\\\\right)}{x-x_0}=\\\\\\\\lim_{x\\\\\\\\rightarrow x_0}\\\\\\\\left(x+x_0\\\\\\\\right)=2x_0\",\"inline\":false,\"children\":[{\"text\":\"\"}]},{\"type\":\"p\",\"children\":[{\"text\":\"Das heiÃ\\x9ft, dass egal an welchem Punkt \"},{\"type\":\"math\",\"src\":\"x_0\",\"inline\":true,\"children\":[{\"text\":\"x_0\"}]},{\"text\":\" wir die Ableitung ausrechnen, wir bekommen immer \"},{\"type\":\"math\",\"src\":\"2x_0\",\"inline\":true,\"children\":[{\"text\":\"2x_0\"}]},{\"text\":\".\"}]}]}]}}},{\"plugin\":\"text\",\"state\":[{\"type\":\"h\",\"level\":2,\"children\":[{\"text\":\"HÃ¶here Ableitungen\"}]}]},{\"plugin\":\"multimedia\",\"state\":{\"explanation\":{\"plugin\":\"rows\",\"state\":[{\"plugin\":\"text\",\"state\":[{\"type\":\"p\",\"children\":[{\"text\":\"Wenn die erste Ableitung nochmal abgeleitet wird, wird das Ergebnis \"},{\"text\":\"zweite Ableitung\",\"strong\":true},{\"text\":\" genannt. Die Ableitung der zweiten Ableitung heiÃ\\x9ft dritte Ableitung und so weiter. Zumeist werden fÃ¼r die \"},{\"type\":\"a\",\"href\":\"/1577\",\"children\":[{\"text\":\"Kurvendiskussion\"}]},{\"text\":\" nur die ersten drei Ableitungen benÃ¶tigt.\"}]},{\"type\":\"p\",\"children\":[{\"text\":\"Im Bild erkennt man auch wieder, dass die Ableitung die Steigung der Funktion ist:\"}]},{\"type\":\"unordered-list\",\"children\":[{\"type\":\"list-item\",\"children\":[{\"type\":\"list-item-child\",\"children\":[{\"type\":\"p\",\"children\":[{\"text\":\"Die Ableitung von \"},{\"type\":\"math\",\"src\":\"f\",\"inline\":true,\"children\":[{\"text\":\"f\"}]},{\"text\":\" ist negativ bis 1, und danach positiv. Dementsprechend fÃ¤llt \"},{\"type\":\"math\",\"src\":\"f\\\\\\\\left(x\\\\\\\\right)\",\"inline\":true,\"children\":[{\"text\":\"f\\\\\\\\left(x\\\\\\\\right)\"}]},{\"text\":\" bis \"},{\"type\":\"math\",\"src\":\"x=1\",\"inline\":true,\"children\":[{\"text\":\"x=1\"}]},{\"text\":\" Â\\xa0und steigt danach.\"}]}]}]},{\"type\":\"list-item\",\"children\":[{\"type\":\"list-item-child\",\"children\":[{\"type\":\"p\",\"children\":[{\"text\":\"Des Weiteren ist \"},{\"type\":\"math\",\"src\":\"f\\'\\\\\\\\left(x\\\\\\\\right)\",\"inline\":true,\"children\":[{\"text\":\"f\\'\\\\\\\\left(x\\\\\\\\right)\"}]},{\"text\":\"Â\\xa0eine Gerade mit konstanter Steigung undÂ\\xa0 \"},{\"type\":\"math\",\"src\":\"f\\'\\'\\\\\\\\left(x\\\\\\\\right)\",\"inline\":true,\"children\":[{\"text\":\"f\\'\\'\\\\\\\\left(x\\\\\\\\right)\"}]},{\"text\":\" Â\\xa0ist konstant.\"}]}]}]}]}]}]},\"multimedia\":{\"plugin\":\"image\",\"state\":{\"src\":\"https://assets.serlo.org/legacy/8538_UQULkTYwd3.png\",\"alt\":\"Geogebra File: https://assets.serlo.org/legacy/8537_LZ8OUr0t8S.xml\",\"caption\":{\"plugin\":\"text\",\"state\":[{\"type\":\"p\",\"children\":[{}]}]}}},\"illustrating\":true,\"width\":50}},{\"plugin\":\"text\",\"state\":[{\"type\":\"h\",\"level\":2,\"children\":[{\"text\":\"Notation\"}]}]},{\"plugin\":\"text\",\"state\":[{\"type\":\"p\",\"children\":[{\"text\":\"Die Ableitung einer Funktion wird mit einem Strich ( \"},{\"type\":\"math\",\"src\":\"\\'\",\"inline\":true,\"children\":[{\"text\":\"\\'\"}]},{\"text\":\" ) nach der Bezeichnung der Funktion gekennzeichnet. Bei hÃ¶heren Ableitungen fÃ¼gt man weitere Striche hinzu. Der Ã\\x9cbersichtlichkeit halber verwendet man ab der vierten Ableitung statt der jeweiligen Anzahl an Strichen die entsprechende Zahl hochgestellt und eingeklammert.\"}]},{\"type\":\"unordered-list\",\"children\":[{\"type\":\"list-item\",\"children\":[{\"type\":\"list-item-child\",\"children\":[{\"text\":\"Funktion \"},{\"type\":\"math\",\"src\":\"f(x)\",\"inline\":true,\"children\":[{\"text\":\"f(x)\"}]},{\"text\":\"\"}]}]},{\"type\":\"list-item\",\"children\":[{\"type\":\"list-item-child\",\"children\":[{\"text\":\"1. Ableitung \"},{\"type\":\"math\",\"src\":\"f\\'(x)\",\"inline\":true,\"children\":[{\"text\":\"f\\'(x)\"}]},{\"text\":\"\"}]}]},{\"type\":\"list-item\",\"children\":[{\"type\":\"list-item-child\",\"children\":[{\"text\":\"2. Ableitung \"},{\"type\":\"math\",\"src\":\"f\\'\\'(x)\",\"inline\":true,\"children\":[{\"text\":\"f\\'\\'(x)\"}]},{\"text\":\"\"}]}]},{\"type\":\"list-item\",\"children\":[{\"type\":\"list-item-child\",\"children\":[{\"text\":\"n-te Ableitung \"},{\"type\":\"math\",\"src\":\"f^{(n)}(x)\",\"inline\":true,\"children\":[{\"text\":\"f^{(n)}(x)\"}]},{\"text\":\"\"}]}]}]}]},{\"plugin\":\"spoiler\",\"state\":{\"title\":\"Ableitung nach der Zeit\",\"content\":{\"plugin\":\"rows\",\"state\":[{\"plugin\":\"text\",\"state\":[{\"type\":\"p\",\"children\":[{\"text\":\"In der Physik gibt es auch die Notation mit einem bzw. mehreren Punkten Ã¼ber der Funktionsbezeichnung fÃ¼r die Ableitungen nach der Zeit.\"}]},{\"type\":\"p\",\"children\":[{\"text\":\"\"},{\"type\":\"math\",\"src\":\"x\\\\\\\\Rightarrow\\\\\\\\dot x\",\"inline\":true,\"children\":[{\"text\":\"x\\\\\\\\Rightarrow\\\\\\\\dot x\"}]},{\"text\":\"\"}]},{\"type\":\"p\",\"children\":[{\"text\":\"\"},{\"type\":\"math\",\"src\":\"x(t)\\\\\\\\Rightarrow\\\\\\\\dot x(t)\",\"inline\":true,\"children\":[{\"text\":\"x(t)\\\\\\\\Rightarrow\\\\\\\\dot x(t)\"}]},{\"text\":\"\"}]},{\"type\":\"p\",\"children\":[{\"text\":\"\"},{\"type\":\"math\",\"src\":\"\\\\\\\\dot y\\\\\\\\Rightarrow\\\\\\\\ddot y,\\\\\\\\dots\",\"inline\":true,\"children\":[{\"text\":\"\\\\\\\\dot y\\\\\\\\Rightarrow\\\\\\\\ddot y,\\\\\\\\dots\"}]},{\"text\":\"\"}]}]}]}}},{\"plugin\":\"spoiler\",\"state\":{\"title\":\"Alternative Notationen\",\"content\":{\"plugin\":\"rows\",\"state\":[{\"plugin\":\"text\",\"state\":[{\"type\":\"p\",\"children\":[{\"text\":\"Als Alternative zu dem Strich kann man auch Differentiale (FÃ¼r eine BegriffserklÃ¤rung:Â\\xa0\"},{\"type\":\"a\",\"href\":\"http://de.wikipedia.org/wiki/Differential_%28Mathematik%29\",\"children\":[{\"text\":\"Wikipedia\"}]},{\"text\":\") verwenden.\"}]},{\"type\":\"p\",\"children\":[{\"type\":\"math\",\"src\":\"f\\'\\\\\\\\left(x\\\\\\\\right)=\\\\\\\\frac{\\\\\\\\mathrm{d}f}{\\\\\\\\mathrm{d}x}\\\\\\\\left(x\\\\\\\\right)=\\\\\\\\frac{\\\\\\\\mathrm{d}f\\\\\\\\left(x\\\\\\\\right)}{\\\\\\\\mathrm{d}x}=\\\\\\\\frac{\\\\\\\\mathrm{d}}{\\\\\\\\mathrm{d}x}f\\\\\\\\left(x\\\\\\\\right)\",\"inline\":false,\"children\":[{\"text\":\"f\\'\\\\\\\\left(x\\\\\\\\right)=\\\\\\\\frac{\\\\\\\\mathrm df}{\\\\\\\\mathrm dx}\\\\\\\\left(x\\\\\\\\right)=\\\\\\\\frac{\\\\\\\\mathrm df\\\\\\\\left(x\\\\\\\\right)}{\\\\\\\\mathrm dx}=\\\\\\\\frac{\\\\\\\\mathrm d}{\\\\\\\\mathrm dx}f\\\\\\\\left(x\\\\\\\\right)\"}]}]}]}]}}},{\"plugin\":\"text\",\"state\":[{\"type\":\"h\",\"level\":2,\"children\":[{\"text\":\"WofÃ¼r braucht man Ableitungen?\"}]}]},{\"plugin\":\"text\",\"state\":[{\"type\":\"p\",\"children\":[{\"text\":\"Die erste Ableitung gibt die \"},{\"text\":\"Steigung einer Funktion\",\"strong\":true},{\"text\":\" an.\"}]},{\"type\":\"p\",\"children\":[{\"text\":\"Hat man eine Funktion gegeben, dann kann man aus der Ableitung zum Beispiel ablesen, wann die Funktion am stÃ¤rksten steigt bzw. gar nicht steigt und kann dadurch RÃ¼ckschlÃ¼sse ziehen, wie der Funktionsgraph aussieht. Diese Methode dient unter anderem der Bestimmung von \"},{\"type\":\"a\",\"href\":\"/1845\",\"children\":[{\"text\":\"Extremstellen bzw. Extremwerten\"}]},{\"text\":\".\"}]},{\"type\":\"p\",\"children\":[{\"text\":\"Bildet man die Ableitung der Ableitung, so erhÃ¤lt man die zweite Ableitung, sozusagen die Steigung der Steigung. Die zweite Ableitung ist die \"},{\"type\":\"a\",\"href\":\"/1649\",\"children\":[{\"text\":\"KrÃ¼mmung\",\"strong\":true}]},{\"text\":\" des Funktionsgraphen.Â\\xa0\"}]},{\"type\":\"p\",\"children\":[{\"text\":\"Die zweite Ableitung ermÃ¶glicht z.B. eine Antwort auf die Frage: Wann ist die Steigung konstant?\"}]}]},{\"plugin\":\"text\",\"state\":[{\"type\":\"h\",\"level\":2,\"children\":[{\"text\":\"Ableitungen in der Kurvendiskussion\"}]}]},{\"plugin\":\"table\",\"state\":\"||Beispiel|Bedeutung|\\\\n|-|-|-|\\\\n|Ausgangsfunktion|$$f(x)=x^3-6x^2+10x-1$$||\\\\n|Erste Ableitung|$$f\\'(x)=3x^2-12x+10$$|Steigung von %%f%%|\\\\n|Zweite Ableitung|$$f\\'\\'(x)=6x-12$$|KrÃ¼mmung von %%f%%|\"},{\"plugin\":\"image\",\"state\":{\"src\":\"https://assets.serlo.org/legacy/1303.png\",\"alt\":\"Geogebra File: https://assets.serlo.org/legacy/1302.xml\",\"caption\":{\"plugin\":\"text\",\"state\":[{\"type\":\"p\",\"children\":[{}]}]}}},{\"plugin\":\"text\",\"state\":[{\"type\":\"unordered-list\",\"children\":[{\"type\":\"list-item\",\"children\":[{\"type\":\"list-item-child\",\"children\":[{\"type\":\"p\",\"children\":[{\"text\":\"Jeder x-Wert eines \"},{\"type\":\"a\",\"href\":\"/1579\",\"children\":[{\"text\":\"Extremums\"}]},{\"text\":\" der Funktion ist eine \"},{\"type\":\"a\",\"href\":\"/1531\",\"children\":[{\"text\":\"Nullstelle\"}]},{\"text\":\" der Ableitung.\"}]}]}]},{\"type\":\"list-item\",\"children\":[{\"type\":\"list-item-child\",\"children\":[{\"type\":\"p\",\"children\":[{\"text\":\"JederÂ\\xa0x-Wert eines \"},{\"type\":\"a\",\"href\":\"/1653\",\"children\":[{\"text\":\"Wendepunktes\"}]},{\"text\":\" einer Funktion ist ein x-Wert eines Extremums der Ableitung.\"}]}]}]},{\"type\":\"list-item\",\"children\":[{\"type\":\"list-item-child\",\"children\":[{\"type\":\"p\",\"children\":[{\"text\":\"Jeder x-Wert eines Wendepunktes einer Funktion ist eine \"},{\"type\":\"a\",\"href\":\"/1531\",\"children\":[{\"text\":\"Nullstelle\"}]},{\"text\":\" der zweiten Ableitung.\"}]}]}]},{\"type\":\"list-item\",\"children\":[{\"type\":\"list-item-child\",\"children\":[{\"type\":\"p\",\"children\":[{\"text\":\"Achtung: Die RÃ¼ckrichtung dieser Aussagen muss nicht richtig sein.\"}]}]}]}]}]},{\"plugin\":\"text\",\"state\":[{\"type\":\"h\",\"level\":2,\"children\":[{\"text\":\"Ableitung und Integral\"}]}]},{\"plugin\":\"text\",\"state\":[{\"type\":\"p\",\"children\":[{\"text\":\"Das \"},{\"type\":\"a\",\"href\":\"/1595\",\"children\":[{\"text\":\"Integral\"}]},{\"text\":\" ist das GegenstÃ¼ck zur Ableitung. Leitet man eine integrierte Funktion ab, erhÃ¤lt man die ursprÃ¼ngliche Funktion und ebenso umgekehrt (abgesehen von einer \"},{\"type\":\"a\",\"href\":\"/1711\",\"children\":[{\"text\":\"Konstante\"}]},{\"text\":\", die hier noch hinzukommen kann). Dieser Zusammenhang ist die Aussage des \"},{\"type\":\"a\",\"href\":\"/2049\",\"children\":[{\"text\":\"Hauptsatzes der Differential- und Integralrechnung (HDI)\"}]},{\"text\":\".\"}]}]}]},\"exercises\":[{\"plugin\":\"injection\",\"state\":\"56218\"}],\"exerciseFolder\":{\"id\":\"26407\",\"title\":\"Aufgaben zum graphischen Differenzieren\"},\"relatedContent\":{\"articles\":[{\"id\":\"2215\",\"title\":\"Ableitung berechnen\"},{\"id\":\"2213\",\"title\":\"Tangente an Graph\"},{\"id\":\"1637\",\"title\":\"Sekante\"}],\"courses\":[],\"videos\":[]},\"sources\":[]}}',\n",
       "  'meta_title': '',\n",
       "  'meta_description': ''}]"
      ]
     },
     "execution_count": 4,
     "metadata": {},
     "output_type": "execute_result"
    }
   ],
   "source": [
    "import json\n",
    "import mysql.connector\n",
    "\n",
    "from IPython.display import display, Markdown, HTML\n",
    "\n",
    "db = mysql.connector.connect(\n",
    "    host=\"localhost\",\n",
    "    user=\"root\",\n",
    "    password=\"secret\",\n",
    "    port=\"3306\",\n",
    "    database=\"serlo\",\n",
    "    charset=\"latin1\"\n",
    ")\n",
    "\n",
    "def query(sql):\n",
    "    c = db.cursor()\n",
    "    c.execute(sql)\n",
    "    \n",
    "    return c.fetchall()\n",
    "\n",
    "def getCurrentEntityRevision(current_revision_id):\n",
    "    results = query(\"\"\"\n",
    "        select\n",
    "            max(entity_revision.id),\n",
    "            max(entity.id),\n",
    "            max(type.name),\n",
    "            json_objectagg(entity_revision_field.field, entity_revision_field.value) as fields\n",
    "        from entity\n",
    "            join type on entity.type_id = type.id\n",
    "            join entity_revision on entity_revision.id = entity.current_revision_id\n",
    "            join entity_revision_field on entity_revision_field.entity_revision_id = entity_revision.id\n",
    "        where entity.id = {}\n",
    "        group by entity_revision.id\n",
    "    \"\"\".format(current_revision_id))\n",
    "\n",
    "    return [{\n",
    "        \"currentRevisionId\": result[0],\n",
    "        \"entityId\": result[1],\n",
    "        \"type\": result[2],\n",
    "        **json.loads(result[3])\n",
    "    } for result in results]"
   ]
  },
  {
   "cell_type": "code",
   "execution_count": 21,
   "id": "eba34abf",
   "metadata": {},
   "outputs": [],
   "source": [
    "# TODO: remove latex and restore umlaute\n",
    "def extract_strings_from_object(obj):\n",
    "    strings = []\n",
    "\n",
    "    if isinstance(obj, dict):\n",
    "        for key, value in obj.items():\n",
    "            if key == 'text':\n",
    "                strings.append(value)\n",
    "            else:\n",
    "                strings.extend(extract_strings_from_object(value))\n",
    "    elif isinstance(obj, list):\n",
    "        for item in obj:\n",
    "            strings.extend(extract_strings_from_object(item))\n",
    "\n",
    "    return strings\n",
    "\n",
    "\n",
    "content = json.loads(getCurrentEntityRevision(1795)[0][\"content\"])\n",
    "text = \" \".join(extract_strings_from_object(content))\n"
   ]
  },
  {
   "cell_type": "code",
   "execution_count": 16,
   "id": "b84cb4e2",
   "metadata": {},
   "outputs": [],
   "source": [
    "completion = openai.ChatCompletion.create(\n",
    "  model=\"gpt-3.5-turbo\",\n",
    "  messages=[\n",
    "    {\"role\": \"system\", \n",
    "     \"content\": \"Erkläre den Begriff der Ableitung einem 10-Jährigem und einem 16-Jährigen.\"}\n",
    "  ]\n",
    ")"
   ]
  },
  {
   "cell_type": "code",
   "execution_count": 17,
   "id": "8041aac1",
   "metadata": {},
   "outputs": [
    {
     "name": "stdout",
     "output_type": "stream",
     "text": [
      "Ein 10-Jähriger könnte die Ableitung als \"eine Methode, um herauszufinden, wie schnell sich etwas verändert\" erklärt bekommen. Beispielweise könnte man sagen: \"Stell dir vor, du fährst Fahrrad und willst wissen, wie schnell du dich bewegst. Du könntest die Ableitung benutzen, um herauszufinden, wie schnell du dich von einem Punkt zum anderen bewegst. Das hilft dir, zu wissen, ob du schnell fährst oder langsamer wirst.\"\n",
      "\n",
      "Ein 16-Jähriger könnte die Ableitung als \"die Steigung einer Funktion an einem bestimmten Punkt\" erklärt bekommen. Beispielweise könnte man sagen: \"Stell dir vor, du hast eine Funktion, die den Weg beschreibt, den du mit deinem Auto fährst. Die Ableitung dieser Funktion würde dir sagen, wie schnell du dich an einer bestimmten Stelle bewegst. Wenn die Ableitung positiv ist, fährst du schneller, wenn sie negativ ist, verlangsamst du dich. Die Ableitung hilft dir also, die Geschwindigkeit deiner Bewegung zu verstehen.\"\n"
     ]
    }
   ],
   "source": [
    "print(completion.choices[0].message.content)"
   ]
  },
  {
   "cell_type": "code",
   "execution_count": 22,
   "id": "e32a3e27",
   "metadata": {},
   "outputs": [
    {
     "name": "stdout",
     "output_type": "stream",
     "text": [
      "Für einen 10-Jährigen:\n",
      "\n",
      "Die Ableitung einer Funktion an einer bestimmten Stelle sagt uns wie steil der Graph der Funktion an dieser Stelle ist. Wenn die Ableitung größer als null ist, steigt der Graph an dieser Stelle. Wenn die Ableitung kleiner als null ist, fällt der Graph. An den extremsten Stellen und an Terrassenpunkten ist die Ableitung gleich null. Die Ableitung hilft uns dabei, die Extremstellen und die Monotonie der Funktion zu bestimmen. Funktionen, die an jeder Stelle eine Ableitung haben, nennt man differenzierbar. Das Berechnen der Ableitung nennt man Differenzieren. Es gibt Regeln, mit denen man die Ableitung berechnen kann.\n",
      "\n",
      "Für einen 16-Jährigen:\n",
      "\n",
      "Die Ableitung einer Funktion an einer bestimmten Stelle gibt uns die Steigung des Graphen dieser Funktion an. Wenn die Ableitung an einem Punkt größer als null ist, steigt der Graph an dieser Stelle. Ist die Ableitung kleiner als null, fällt der Graph an dieser Stelle. An den Stellen, an denen die Ableitung gleich null ist, haben wir entweder ein Extremum oder einen Terrassenpunkt. Daher spielt die Ableitung eine wichtige Rolle bei der Untersuchung der Extrema und der Monotonie einer Funktion. Wenn eine Funktion an jeder Stelle eine Ableitung hat, nennt man sie differenzierbar. Das Berechnen der Ableitung nennt man Differenzieren. Es gibt verschiedene Regeln, die uns dabei helfen, die Ableitung zu berechnen.\n"
     ]
    }
   ],
   "source": [
    "completion = openai.ChatCompletion.create(\n",
    "  model=\"gpt-3.5-turbo\",\n",
    "  messages=[\n",
    "    {\"role\": \"system\", \n",
    "     \"content\": \"Erstelle aus diesem Text eine Version für einem 10-Jährigem und einem 16-Jährigen: {}\".format(text)}\n",
    "  ]\n",
    ")\n",
    "print(completion.choices[0].message.content)"
   ]
  }
 ],
 "metadata": {
  "kernelspec": {
   "display_name": "Python 3 (ipykernel)",
   "language": "python",
   "name": "python3"
  },
  "language_info": {
   "codemirror_mode": {
    "name": "ipython",
    "version": 3
   },
   "file_extension": ".py",
   "mimetype": "text/x-python",
   "name": "python",
   "nbconvert_exporter": "python",
   "pygments_lexer": "ipython3",
   "version": "3.9.6"
  }
 },
 "nbformat": 4,
 "nbformat_minor": 5
}
